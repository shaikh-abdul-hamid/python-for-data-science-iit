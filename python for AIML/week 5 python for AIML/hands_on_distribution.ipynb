{
 "cells": [
  {
   "cell_type": "markdown",
   "id": "f8c48306",
   "metadata": {},
   "source": [
    "## DISTRIBUTIONS IN PYTHON"
   ]
  },
  {
   "cell_type": "markdown",
   "id": "3773c8a2",
   "metadata": {},
   "source": [
    "1) Random variable (RV):-\n",
    "\n",
    "* Maps outcome of a sample space to a real line such that there is a unique real\n",
    " number corresponding to every outcome of sample space \n",
    "\n",
    "* Eg: Coin toss experiment where outcomes [H,T] are mapped to [0,1].If outcomes are\n",
    " already real valued then no need to map them on real line (throw of a dice). These are examples of discrete random variables \n",
    "\n",
    "* Continuous RV maps outcomes of a continuous phenomena to intervals in a real line (Eg: sensor readings)\n"
   ]
  },
  {
   "cell_type": "markdown",
   "id": "d31f7f83",
   "metadata": {},
   "source": [
    "2) Probability mass/density function:- \n",
    "\n",
    "* For a discrete RV, the probability mass function assigns a probability measure to every discrete outcome of sample space \n",
    "\n",
    "* Coin toss sample space [H T] mapped to [0 1]. X is discrete RV whose outcome can be 0 or 1 \n",
    "P(X = 0) = 0.5, P(X = 1) = 0.5 \n",
    "\n",
    "* For a continuous RV, the probability density function assigns a probability measure to every interval on real line\n",
    "\n",
    "    P(a < x <b) =  ∫a to b f(x)dx (Area under the curve of f(x))\n"
   ]
  },
  {
   "cell_type": "markdown",
   "id": "b81cf01d",
   "metadata": {},
   "source": [
    "3) Cumulative distribution/density function:\n",
    "\n",
    "* This is the probability that the RV 'x' lies in the interval  \n",
    "−∞ < x < b\n",
    "\n",
    "    F(b) = P(−∞ <x <b) = ∫-∞ to b f(x)dx"
   ]
  },
  {
   "cell_type": "markdown",
   "id": "bc3de970",
   "metadata": {},
   "source": [
    "Every distribution in Python has four functionalities\n",
    "\n",
    " 1. ‘rvs’: generating random numbers from a distribution\n",
    " 2. ‘pdf’:probability density function\n",
    " 3. ‘cdf’:cumulative distribution function\n",
    " 4. ‘ppf’: percentile point function (inverse cumulative distribution function)\n",
    "\n",
    " Distribution root name \n",
    "\n",
    "norm- normal distribution \n",
    "\n",
    "binom- binomial distribution\n",
    "\n",
    " In this lecture we are going to work with standard normal distributions i.e. \n",
    " \n",
    "mean=0 \n",
    "\n",
    "standard deviation=1\n"
   ]
  },
  {
   "cell_type": "markdown",
   "id": "b2225c63",
   "metadata": {},
   "source": [
    "## NORMAL DISTRIBUTION"
   ]
  },
  {
   "cell_type": "code",
   "execution_count": null,
   "id": "baae2e13",
   "metadata": {},
   "outputs": [],
   "source": [
    "# Importing numpy for numerical operations\n",
    "import numpy as numpy\n",
    "\n",
    "# Importing matplotlib and seaborn for visualisation\n",
    "import matplotlib.pyplot as plt \n",
    "import seaborn as sns\n",
    "\n",
    "# importing scipy.stats for statistical computations\n",
    "import scipy.stats"
   ]
  },
  {
   "cell_type": "code",
   "execution_count": null,
   "id": "fff0d046",
   "metadata": {},
   "outputs": [],
   "source": []
  }
 ],
 "metadata": {
  "kernelspec": {
   "display_name": "Python 3",
   "language": "python",
   "name": "python3"
  },
  "language_info": {
   "name": "python",
   "version": "3.13.0"
  }
 },
 "nbformat": 4,
 "nbformat_minor": 5
}

{
 "cells": [
  {
   "cell_type": "code",
   "execution_count": 2,
   "id": "90e16919",
   "metadata": {},
   "outputs": [],
   "source": [
    "import pandas as pd \n",
    "import numpy as np\n",
    "import matplotlib.pyplot as plt\n",
    "import seaborn as sns\n"
   ]
  },
  {
   "cell_type": "code",
   "execution_count": 3,
   "id": "a4a965fa",
   "metadata": {},
   "outputs": [],
   "source": [
    "df1 = pd.read_csv(\"Stock_File_1.csv\" )\n",
    "df2 = pd.read_csv(\"Stock_File_2.txt\", sep = \",\" )"
   ]
  },
  {
   "cell_type": "code",
   "execution_count": 4,
   "id": "935aaa38",
   "metadata": {},
   "outputs": [
    {
     "name": "stdout",
     "output_type": "stream",
     "text": [
      "<class 'pandas.core.frame.DataFrame'>\n",
      "RangeIndex: 165 entries, 0 to 164\n",
      "Data columns (total 6 columns):\n",
      " #   Column  Non-Null Count  Dtype  \n",
      "---  ------  --------------  -----  \n",
      " 0   Date    165 non-null    object \n",
      " 1   Open    161 non-null    float64\n",
      " 2   High    158 non-null    float64\n",
      " 3   Low     159 non-null    float64\n",
      " 4   Close   158 non-null    float64\n",
      " 5   Volume  165 non-null    object \n",
      "dtypes: float64(4), object(2)\n",
      "memory usage: 7.9+ KB\n"
     ]
    }
   ],
   "source": [
    "df1.info()"
   ]
  },
  {
   "cell_type": "code",
   "execution_count": 5,
   "id": "4bcbeeeb",
   "metadata": {},
   "outputs": [
    {
     "name": "stdout",
     "output_type": "stream",
     "text": [
      "<class 'pandas.core.frame.DataFrame'>\n",
      "RangeIndex: 204 entries, 0 to 203\n",
      "Data columns (total 6 columns):\n",
      " #   Column  Non-Null Count  Dtype  \n",
      "---  ------  --------------  -----  \n",
      " 0   Date    204 non-null    object \n",
      " 1   Open    201 non-null    float64\n",
      " 2   High    195 non-null    float64\n",
      " 3   Low     197 non-null    float64\n",
      " 4   Close   197 non-null    float64\n",
      " 5   Volume  204 non-null    object \n",
      "dtypes: float64(4), object(2)\n",
      "memory usage: 9.7+ KB\n"
     ]
    }
   ],
   "source": [
    "df2.info()"
   ]
  },
  {
   "cell_type": "code",
   "execution_count": 6,
   "id": "a8b96fb1",
   "metadata": {},
   "outputs": [
    {
     "data": {
      "text/plain": [
       "165"
      ]
     },
     "execution_count": 6,
     "metadata": {},
     "output_type": "execute_result"
    }
   ],
   "source": [
    "len(np.unique(df1['Date']))"
   ]
  },
  {
   "cell_type": "code",
   "execution_count": 7,
   "id": "821f10ce",
   "metadata": {},
   "outputs": [
    {
     "data": {
      "text/plain": [
       "204"
      ]
     },
     "execution_count": 7,
     "metadata": {},
     "output_type": "execute_result"
    }
   ],
   "source": [
    "len(np.unique(df2['Date']))"
   ]
  },
  {
   "cell_type": "code",
   "execution_count": 8,
   "id": "eb1ad0e3",
   "metadata": {},
   "outputs": [
    {
     "data": {
      "text/plain": [
       "0      False\n",
       "1      False\n",
       "2      False\n",
       "3      False\n",
       "4      False\n",
       "       ...  \n",
       "160    False\n",
       "161    False\n",
       "162    False\n",
       "163    False\n",
       "164    False\n",
       "Length: 165, dtype: bool"
      ]
     },
     "execution_count": 8,
     "metadata": {},
     "output_type": "execute_result"
    }
   ],
   "source": [
    "df1.duplicated(subset=['Date'], keep = False)\n"
   ]
  },
  {
   "cell_type": "code",
   "execution_count": 9,
   "id": "c819d911",
   "metadata": {},
   "outputs": [
    {
     "data": {
      "text/html": [
       "<div>\n",
       "<style scoped>\n",
       "    .dataframe tbody tr th:only-of-type {\n",
       "        vertical-align: middle;\n",
       "    }\n",
       "\n",
       "    .dataframe tbody tr th {\n",
       "        vertical-align: top;\n",
       "    }\n",
       "\n",
       "    .dataframe thead th {\n",
       "        text-align: right;\n",
       "    }\n",
       "</style>\n",
       "<table border=\"1\" class=\"dataframe\">\n",
       "  <thead>\n",
       "    <tr style=\"text-align: right;\">\n",
       "      <th></th>\n",
       "      <th>Date</th>\n",
       "      <th>Open</th>\n",
       "      <th>High</th>\n",
       "      <th>Low</th>\n",
       "      <th>Close</th>\n",
       "      <th>Volume</th>\n",
       "    </tr>\n",
       "  </thead>\n",
       "  <tbody>\n",
       "  </tbody>\n",
       "</table>\n",
       "</div>"
      ],
      "text/plain": [
       "Empty DataFrame\n",
       "Columns: [Date, Open, High, Low, Close, Volume]\n",
       "Index: []"
      ]
     },
     "execution_count": 9,
     "metadata": {},
     "output_type": "execute_result"
    }
   ],
   "source": [
    "df1[df1.duplicated(subset=['Date'], keep = False)]"
   ]
  },
  {
   "cell_type": "code",
   "execution_count": 10,
   "id": "1451bf55",
   "metadata": {},
   "outputs": [
    {
     "data": {
      "text/html": [
       "<div>\n",
       "<style scoped>\n",
       "    .dataframe tbody tr th:only-of-type {\n",
       "        vertical-align: middle;\n",
       "    }\n",
       "\n",
       "    .dataframe tbody tr th {\n",
       "        vertical-align: top;\n",
       "    }\n",
       "\n",
       "    .dataframe thead th {\n",
       "        text-align: right;\n",
       "    }\n",
       "</style>\n",
       "<table border=\"1\" class=\"dataframe\">\n",
       "  <thead>\n",
       "    <tr style=\"text-align: right;\">\n",
       "      <th></th>\n",
       "      <th>Date</th>\n",
       "      <th>Open</th>\n",
       "      <th>High</th>\n",
       "      <th>Low</th>\n",
       "      <th>Close</th>\n",
       "      <th>Volume</th>\n",
       "    </tr>\n",
       "  </thead>\n",
       "  <tbody>\n",
       "  </tbody>\n",
       "</table>\n",
       "</div>"
      ],
      "text/plain": [
       "Empty DataFrame\n",
       "Columns: [Date, Open, High, Low, Close, Volume]\n",
       "Index: []"
      ]
     },
     "execution_count": 10,
     "metadata": {},
     "output_type": "execute_result"
    }
   ],
   "source": [
    "df2[df2.duplicated(subset=['Date'], keep = False)]"
   ]
  },
  {
   "cell_type": "code",
   "execution_count": 11,
   "id": "fb6dcbee",
   "metadata": {},
   "outputs": [
    {
     "data": {
      "text/plain": [
       "False"
      ]
     },
     "execution_count": 11,
     "metadata": {},
     "output_type": "execute_result"
    }
   ],
   "source": [
    "df1['Date'].equals(df2['Date'])"
   ]
  },
  {
   "cell_type": "code",
   "execution_count": 12,
   "id": "168bcf48",
   "metadata": {},
   "outputs": [],
   "source": [
    "stock = pd.merge(df1, df2, on = 'Date', how = 'outer')"
   ]
  },
  {
   "cell_type": "code",
   "execution_count": 13,
   "id": "178696f6",
   "metadata": {},
   "outputs": [
    {
     "name": "stdout",
     "output_type": "stream",
     "text": [
      "<class 'pandas.core.frame.DataFrame'>\n",
      "RangeIndex: 369 entries, 0 to 368\n",
      "Data columns (total 11 columns):\n",
      " #   Column    Non-Null Count  Dtype  \n",
      "---  ------    --------------  -----  \n",
      " 0   Date      369 non-null    object \n",
      " 1   Open_x    161 non-null    float64\n",
      " 2   High_x    158 non-null    float64\n",
      " 3   Low_x     159 non-null    float64\n",
      " 4   Close_x   158 non-null    float64\n",
      " 5   Volume_x  165 non-null    object \n",
      " 6   Open_y    201 non-null    float64\n",
      " 7   High_y    195 non-null    float64\n",
      " 8   Low_y     197 non-null    float64\n",
      " 9   Close_y   197 non-null    float64\n",
      " 10  Volume_y  204 non-null    object \n",
      "dtypes: float64(8), object(3)\n",
      "memory usage: 31.8+ KB\n"
     ]
    }
   ],
   "source": [
    "stock.info()"
   ]
  },
  {
   "cell_type": "code",
   "execution_count": 14,
   "id": "59decbdb",
   "metadata": {},
   "outputs": [
    {
     "data": {
      "text/html": [
       "<div>\n",
       "<style scoped>\n",
       "    .dataframe tbody tr th:only-of-type {\n",
       "        vertical-align: middle;\n",
       "    }\n",
       "\n",
       "    .dataframe tbody tr th {\n",
       "        vertical-align: top;\n",
       "    }\n",
       "\n",
       "    .dataframe thead th {\n",
       "        text-align: right;\n",
       "    }\n",
       "</style>\n",
       "<table border=\"1\" class=\"dataframe\">\n",
       "  <thead>\n",
       "    <tr style=\"text-align: right;\">\n",
       "      <th></th>\n",
       "      <th>Open_x</th>\n",
       "      <th>High_x</th>\n",
       "      <th>Low_x</th>\n",
       "      <th>Close_x</th>\n",
       "      <th>Open_y</th>\n",
       "      <th>High_y</th>\n",
       "      <th>Low_y</th>\n",
       "      <th>Close_y</th>\n",
       "    </tr>\n",
       "  </thead>\n",
       "  <tbody>\n",
       "    <tr>\n",
       "      <th>count</th>\n",
       "      <td>161.000000</td>\n",
       "      <td>158.000000</td>\n",
       "      <td>159.000000</td>\n",
       "      <td>158.000000</td>\n",
       "      <td>201.000000</td>\n",
       "      <td>195.000000</td>\n",
       "      <td>197.000000</td>\n",
       "      <td>197.000000</td>\n",
       "    </tr>\n",
       "    <tr>\n",
       "      <th>mean</th>\n",
       "      <td>846.829317</td>\n",
       "      <td>808.525253</td>\n",
       "      <td>810.990000</td>\n",
       "      <td>819.263481</td>\n",
       "      <td>925.104975</td>\n",
       "      <td>899.703641</td>\n",
       "      <td>892.973858</td>\n",
       "      <td>905.464213</td>\n",
       "    </tr>\n",
       "    <tr>\n",
       "      <th>std</th>\n",
       "      <td>295.961500</td>\n",
       "      <td>269.669343</td>\n",
       "      <td>270.408865</td>\n",
       "      <td>272.956317</td>\n",
       "      <td>295.739605</td>\n",
       "      <td>274.639593</td>\n",
       "      <td>263.678769</td>\n",
       "      <td>264.815889</td>\n",
       "    </tr>\n",
       "    <tr>\n",
       "      <th>min</th>\n",
       "      <td>364.000000</td>\n",
       "      <td>366.000000</td>\n",
       "      <td>354.000000</td>\n",
       "      <td>363.600000</td>\n",
       "      <td>455.000000</td>\n",
       "      <td>366.200000</td>\n",
       "      <td>450.900000</td>\n",
       "      <td>453.900000</td>\n",
       "    </tr>\n",
       "    <tr>\n",
       "      <th>25%</th>\n",
       "      <td>700.040000</td>\n",
       "      <td>642.500000</td>\n",
       "      <td>676.100000</td>\n",
       "      <td>686.075000</td>\n",
       "      <td>702.100000</td>\n",
       "      <td>687.150000</td>\n",
       "      <td>682.900000</td>\n",
       "      <td>690.350000</td>\n",
       "    </tr>\n",
       "    <tr>\n",
       "      <th>50%</th>\n",
       "      <td>794.000000</td>\n",
       "      <td>782.250000</td>\n",
       "      <td>772.000000</td>\n",
       "      <td>781.815000</td>\n",
       "      <td>840.000000</td>\n",
       "      <td>825.950000</td>\n",
       "      <td>820.500000</td>\n",
       "      <td>835.950000</td>\n",
       "    </tr>\n",
       "    <tr>\n",
       "      <th>75%</th>\n",
       "      <td>922.000000</td>\n",
       "      <td>898.750000</td>\n",
       "      <td>893.000000</td>\n",
       "      <td>891.025000</td>\n",
       "      <td>1165.550000</td>\n",
       "      <td>1137.000000</td>\n",
       "      <td>1142.000000</td>\n",
       "      <td>1148.650000</td>\n",
       "    </tr>\n",
       "    <tr>\n",
       "      <th>max</th>\n",
       "      <td>1755.800000</td>\n",
       "      <td>1650.000000</td>\n",
       "      <td>1600.050000</td>\n",
       "      <td>1607.850000</td>\n",
       "      <td>2291.950000</td>\n",
       "      <td>1445.000000</td>\n",
       "      <td>1405.100000</td>\n",
       "      <td>1414.850000</td>\n",
       "    </tr>\n",
       "  </tbody>\n",
       "</table>\n",
       "</div>"
      ],
      "text/plain": [
       "            Open_x       High_x        Low_x      Close_x       Open_y  \\\n",
       "count   161.000000   158.000000   159.000000   158.000000   201.000000   \n",
       "mean    846.829317   808.525253   810.990000   819.263481   925.104975   \n",
       "std     295.961500   269.669343   270.408865   272.956317   295.739605   \n",
       "min     364.000000   366.000000   354.000000   363.600000   455.000000   \n",
       "25%     700.040000   642.500000   676.100000   686.075000   702.100000   \n",
       "50%     794.000000   782.250000   772.000000   781.815000   840.000000   \n",
       "75%     922.000000   898.750000   893.000000   891.025000  1165.550000   \n",
       "max    1755.800000  1650.000000  1600.050000  1607.850000  2291.950000   \n",
       "\n",
       "            High_y        Low_y      Close_y  \n",
       "count   195.000000   197.000000   197.000000  \n",
       "mean    899.703641   892.973858   905.464213  \n",
       "std     274.639593   263.678769   264.815889  \n",
       "min     366.200000   450.900000   453.900000  \n",
       "25%     687.150000   682.900000   690.350000  \n",
       "50%     825.950000   820.500000   835.950000  \n",
       "75%    1137.000000  1142.000000  1148.650000  \n",
       "max    1445.000000  1405.100000  1414.850000  "
      ]
     },
     "execution_count": 14,
     "metadata": {},
     "output_type": "execute_result"
    }
   ],
   "source": [
    "stock.describe()"
   ]
  },
  {
   "cell_type": "code",
   "execution_count": 15,
   "id": "d0eb407d",
   "metadata": {},
   "outputs": [],
   "source": [
    "stock1 = stock.copy()"
   ]
  },
  {
   "cell_type": "code",
   "execution_count": 16,
   "id": "6f97cb05",
   "metadata": {},
   "outputs": [
    {
     "data": {
      "text/plain": [
       "array(['18000', '139400', '48800', nan, '24600', '152500', '402000',\n",
       "       '33300', '52900', '62700', '20600', '49700', '133300', '44500',\n",
       "       '19800', '72400', 'zero', '77900', '69800', '21900', '37900',\n",
       "       '125200', '13400', '28500', '23500', '203500', '11000', '56900',\n",
       "       '125500', '38500', '60300', '12300', '51800', '47700', '8900',\n",
       "       '219700', '17400', '35100', '46100', '113300', '29400', '32200',\n",
       "       '74800', '130800', '99600', '144600', '19000', '79100', '114500',\n",
       "       '45100', '14100', '76800', '13300', '63500', '27300', '71700',\n",
       "       '10600', '17100', '22600', '30200', '12600', '47500', '19900',\n",
       "       '34300', '26800', '54000', '28600', '52800', '110800', '33500',\n",
       "       '8400', '43000', '219500', '47100', '32800', '35500', '122300',\n",
       "       '66800', '78700', '23600', '6800', '138500', '24800', '36700',\n",
       "       '219600', '14800', '71500', '24100', '21700', '412100', '151200',\n",
       "       '69200', '44400', '90100', '843600', '19400', '92800', '25000',\n",
       "       '13600', '199500', '70100', '27800', '272000', '24500', '43300',\n",
       "       '56100', '50500', '81200', '116800', '67100', '58300', '38300',\n",
       "       '68800', '79000', '11500', '51700', '94700', '6700', '5900',\n",
       "       '18400', '78300', '49100', '27200', '6200', '61000', '64900',\n",
       "       '42000', '107800', '30500', '10200', '165200', '30000', '35400',\n",
       "       '20800', '121000', '94300', '8700', '46900', '65700', '85500',\n",
       "       '108900', '44600', '71300', '93000', '110400', '135000', '9100',\n",
       "       '230300', '11100', '126900', '67200', '165800', '5100'],\n",
       "      dtype=object)"
      ]
     },
     "execution_count": 16,
     "metadata": {},
     "output_type": "execute_result"
    }
   ],
   "source": [
    "stock1[\"Volume_x\"].unique()\n",
    "\n"
   ]
  },
  {
   "cell_type": "code",
   "execution_count": 17,
   "id": "e0f66355",
   "metadata": {},
   "outputs": [
    {
     "data": {
      "text/plain": [
       "array(['1-Apr-08', '1-Apr-09', '1-Apr-10', '1-Apr-11', '1-Apr-13',\n",
       "       '1-Apr-14', '1-Apr-15', '1-Apr-16', '1-Aug-06', '1-Aug-07',\n",
       "       '1-Aug-08', '1-Aug-11', '1-Aug-12', '1-Aug-13', '1-Aug-14',\n",
       "       '1-Aug-16', '1-Dec-06', '1-Dec-08', '1-Dec-09', '1-Dec-10',\n",
       "       '1-Dec-11', '1-Dec-14', '1-Dec-15', '1-Feb-07', '1-Feb-08',\n",
       "       '1-Feb-10', '1-Feb-11', '1-Feb-12', '1-Feb-13', '1-Feb-16',\n",
       "       '1-Jan-08', '1-Jan-09', '1-Jan-10', '1-Jan-13', '1-Jan-14',\n",
       "       '1-Jan-15', '1-Jan-16', '1-Jul-08', '1-Jul-09', '1-Jul-10',\n",
       "       '1-Jul-11', '1-Jul-13', '1-Jul-14', '1-Jul-15', '1-Jul-16',\n",
       "       '1-Jun-06', '1-Jun-07', '1-Jun-09', '1-Jun-10', '1-Jun-11',\n",
       "       '1-Jun-12', '1-Jun-15', '1-Jun-16', '1-Mar-07', '1-Mar-11',\n",
       "       '1-Mar-12', '1-Mar-13', '1-Mar-16', '1-May-09', '1-May-12',\n",
       "       '1-May-13', '1-May-14', '1-May-15', '1-Nov-06', '1-Nov-07',\n",
       "       '1-Nov-10', '1-Nov-11', '1-Nov-12', '1-Nov-13', '1-Oct-07',\n",
       "       '1-Oct-08', '1-Oct-09', '1-Oct-10', '1-Oct-12', '1-Oct-13',\n",
       "       '1-Oct-14', '1-Oct-15', '1-Sep-06', '1-Sep-08', '1-Sep-09',\n",
       "       '1-Sep-10', '1-Sep-14', '1-Sep-15', '10-Apr-09', '10-Apr-15',\n",
       "       '10-Aug-07', '10-Aug-12', '10-Dec-10', '10-Feb-12', '10-Jan-14',\n",
       "       '10-Jul-09', '10-Jul-15', '10-Jun-11', '10-Jun-16', '10-May-13',\n",
       "       '10-Nov-06', '10-Oct-08', '10-Oct-14', '11-Apr-08', '11-Apr-11',\n",
       "       '11-Apr-13', '11-Apr-14', '11-Apr-16', '11-Aug-06', '11-Aug-08',\n",
       "       '11-Aug-11', '11-Aug-14', '11-Aug-16', '11-Dec-06', '11-Dec-08',\n",
       "       '11-Dec-09', '11-Dec-14', '11-Dec-15', '11-Feb-10', '11-Feb-11',\n",
       "       '11-Feb-13', '11-Jan-08', '11-Jan-10', '11-Jan-13', '11-Jan-16',\n",
       "       '11-Jul-08', '11-Jul-11', '11-Jul-13', '11-Jul-14', '11-Jul-16',\n",
       "       '11-Jun-07', '11-Jun-09', '11-Jun-10', '11-Jun-12', '11-Jun-15',\n",
       "       '11-Mar-11', '11-Mar-13', '11-Mar-16', '11-May-09', '11-May-12',\n",
       "       '11-May-15', '11-Nov-10', '11-Nov-11', '11-Nov-13', '11-Oct-07',\n",
       "       '11-Oct-10', '11-Oct-12', '11-Oct-13', '11-Sep-06', '11-Sep-08',\n",
       "       '11-Sep-09', '11-Sep-14', '11-Sep-15', '12-Apr-07', '12-Apr-10',\n",
       "       '12-Apr-12', '12-Aug-10', '12-Aug-13', '12-Dec-11', '12-Dec-13',\n",
       "       '12-Feb-07', '12-Feb-08', '12-Feb-09', '12-Feb-15', '12-Feb-16',\n",
       "       '12-Jan-07', '12-Jan-09', '12-Jan-12', '12-Jan-15', '12-Jul-07',\n",
       "       '12-Jul-10', '12-Jul-12', '12-Jun-06', '12-Jun-08', '12-Jun-14',\n",
       "       '12-Mar-07', '12-Mar-09', '12-Mar-10', '12-Mar-12', '12-Mar-15',\n",
       "       '12-May-08', '12-May-11', '12-May-14', '12-May-16', '12-Nov-07',\n",
       "       '12-Nov-09', '12-Nov-12', '12-Nov-15', '12-Oct-09', '12-Oct-15',\n",
       "       '12-Sep-11', '12-Sep-13', '13-Aug-09', '13-Aug-15', '13-Dec-07',\n",
       "       '13-Dec-12', '13-Feb-14', '13-Jan-11', '13-Jul-06', '13-Jun-13',\n",
       "       '13-Mar-08', '13-Mar-14', '13-May-10', '13-Nov-14', '13-Oct-06',\n",
       "       '13-Oct-11', '13-Sep-07', '13-Sep-12', '14-May-07', '14-Nov-08',\n",
       "       '2-Apr-07', '2-Apr-12', '2-Aug-10', '2-Dec-13', '2-Feb-09',\n",
       "       '2-Feb-15', '2-Jan-07', '2-Jan-12', '2-Jul-07', '2-Jul-12',\n",
       "       '2-Jun-08', '2-Jun-14', '2-Mar-09', '2-Mar-10', '2-Mar-15',\n",
       "       '2-May-08', '2-May-11', '2-May-16', '2-Nov-09', '2-Nov-15',\n",
       "       '2-Sep-11', '2-Sep-13', '20-Feb-09', '21-Apr-08', '21-Apr-09',\n",
       "       '21-Apr-10', '21-Apr-11', '21-Apr-14', '21-Apr-15', '21-Apr-16',\n",
       "       '21-Aug-06', '21-Aug-07', '21-Aug-08', '21-Aug-12', '21-Aug-13',\n",
       "       '21-Aug-14', '21-Dec-06', '21-Dec-09', '21-Dec-10', '21-Dec-15',\n",
       "       '21-Feb-07', '21-Feb-11', '21-Feb-12', '21-Feb-13', '21-Jan-08',\n",
       "       '21-Jan-09', '21-Jan-10', '21-Jan-13', '21-Jan-14', '21-Jan-15',\n",
       "       '21-Jan-16', '21-Jul-08', '21-Jul-09', '21-Jul-10', '21-Jul-11',\n",
       "       '21-Jul-14', '21-Jul-15', '21-Jul-16', '21-Jun-07', '21-Jun-10',\n",
       "       '21-Jun-11', '21-Jun-12', '21-Jun-16', '21-Mar-11', '21-Mar-13',\n",
       "       '21-Mar-16', '21-May-09', '21-May-12', '21-May-13', '21-May-14',\n",
       "       '21-May-15', '21-Nov-06', '21-Nov-11', '21-Nov-12', '21-Nov-13',\n",
       "       '21-Oct-08', '21-Oct-09', '21-Oct-10', '21-Oct-13', '21-Oct-14',\n",
       "       '21-Sep-06', '21-Sep-09', '21-Sep-10', '21-Sep-15', '22-Apr-13',\n",
       "       '22-Aug-11', '22-Aug-16', '22-Dec-08', '22-Dec-11', '22-Dec-14',\n",
       "       '22-Feb-08', '22-Feb-10', '22-Feb-16', '22-Jan-07', '22-Jul-13',\n",
       "       '22-Jun-06', '22-Jun-09', '22-Jun-15', '22-Mar-07', '22-Mar-10',\n",
       "       '22-Mar-12', '22-May-08', '22-Nov-07', '22-Nov-10', '22-Oct-07',\n",
       "       '22-Oct-12', '22-Oct-15', '22-Sep-08', '22-Sep-11', '22-Sep-14',\n",
       "       '23-Apr-07', '23-Apr-12', '23-Aug-10', '23-Dec-13', '23-Feb-15',\n",
       "       '23-Jan-12', '23-Jul-07', '23-Jul-12', '23-Jun-08', '23-Jun-14',\n",
       "       '23-Mar-09', '23-Mar-15', '23-May-07', '23-May-11', '23-May-16',\n",
       "       '23-Nov-09', '23-Nov-15', '23-Oct-06', '23-Sep-13', '24-Aug-09',\n",
       "       '24-Aug-15', '24-Dec-07', '24-Dec-12', '24-Feb-14', '24-Jan-11',\n",
       "       '24-Jul-06', '24-Jun-13', '24-Mar-08', '24-Mar-14', '24-May-10',\n",
       "       '24-Nov-08', '24-Nov-14', '24-Oct-11', '24-Sep-07', '24-Sep-12',\n",
       "       '3-Aug-09', '3-Aug-15', '3-Dec-07', '3-Dec-12', '3-Feb-14',\n",
       "       '3-Jan-11', '3-Jul-06', '3-Jun-13', '3-Mar-08', '3-Mar-14',\n",
       "       '3-May-07', '3-May-10', '3-Nov-08', '3-Nov-14', '3-Oct-06',\n",
       "       '3-Oct-11', '3-Sep-07', '3-Sep-12', '9-Sep-10'], dtype=object)"
      ]
     },
     "execution_count": 17,
     "metadata": {},
     "output_type": "execute_result"
    }
   ],
   "source": [
    "stock1[\"Date\"].unique()\n"
   ]
  },
  {
   "cell_type": "code",
   "execution_count": 18,
   "id": "9a4fb85f",
   "metadata": {},
   "outputs": [],
   "source": [
    "categorical_data= stock1.select_dtypes(include=['object']).copy()"
   ]
  },
  {
   "cell_type": "code",
   "execution_count": 19,
   "id": "cc62481a",
   "metadata": {},
   "outputs": [
    {
     "data": {
      "text/plain": [
       "Index(['Date', 'Volume_x', 'Volume_y'], dtype='object')"
      ]
     },
     "execution_count": 19,
     "metadata": {},
     "output_type": "execute_result"
    }
   ],
   "source": [
    "categorical_data.columns"
   ]
  },
  {
   "cell_type": "code",
   "execution_count": 20,
   "id": "70c6ac58",
   "metadata": {},
   "outputs": [
    {
     "data": {
      "text/plain": [
       "Volume_x\n",
       "zero      5\n",
       "48800     3\n",
       "30200     3\n",
       "6200      2\n",
       "19400     2\n",
       "         ..\n",
       "11100     1\n",
       "126900    1\n",
       "67200     1\n",
       "165800    1\n",
       "5100      1\n",
       "Name: count, Length: 152, dtype: int64"
      ]
     },
     "execution_count": 20,
     "metadata": {},
     "output_type": "execute_result"
    }
   ],
   "source": [
    "categorical_data['Volume_x'].value_counts()"
   ]
  },
  {
   "cell_type": "code",
   "execution_count": 21,
   "id": "9a1de603",
   "metadata": {},
   "outputs": [
    {
     "data": {
      "text/plain": [
       "Volume_y\n",
       "zero     6\n",
       "3900     6\n",
       "4600     6\n",
       "4800     6\n",
       "6100     4\n",
       "        ..\n",
       "10500    1\n",
       "17600    1\n",
       "47900    1\n",
       "99900    1\n",
       "10700    1\n",
       "Name: count, Length: 131, dtype: int64"
      ]
     },
     "execution_count": 21,
     "metadata": {},
     "output_type": "execute_result"
    }
   ],
   "source": [
    "categorical_data['Volume_y'].value_counts()"
   ]
  },
  {
   "cell_type": "code",
   "execution_count": 22,
   "id": "bb7f8514",
   "metadata": {},
   "outputs": [
    {
     "data": {
      "text/plain": [
       "Series([], Name: count, dtype: int64)"
      ]
     },
     "execution_count": 22,
     "metadata": {},
     "output_type": "execute_result"
    }
   ],
   "source": [
    "categorical_data.value_counts()"
   ]
  },
  {
   "cell_type": "code",
   "execution_count": 23,
   "id": "a90f198f",
   "metadata": {},
   "outputs": [],
   "source": [
    "import re"
   ]
  },
  {
   "cell_type": "code",
   "execution_count": 24,
   "id": "c7622e31",
   "metadata": {},
   "outputs": [],
   "source": [
    "date = '^(0[1-9]|1[0-2])/(0[1-9]|[12][0-9]|3[01])/[0-9]{4}'"
   ]
  },
  {
   "cell_type": "code",
   "execution_count": 25,
   "id": "37dd713f",
   "metadata": {},
   "outputs": [],
   "source": [
    "p = re.compile(date)"
   ]
  },
  {
   "cell_type": "code",
   "execution_count": 26,
   "id": "947df016",
   "metadata": {},
   "outputs": [
    {
     "data": {
      "text/plain": [
       "re.Pattern"
      ]
     },
     "execution_count": 26,
     "metadata": {},
     "output_type": "execute_result"
    }
   ],
   "source": [
    "type(p)"
   ]
  },
  {
   "cell_type": "code",
   "execution_count": 27,
   "id": "82c37c01",
   "metadata": {},
   "outputs": [
    {
     "name": "stdout",
     "output_type": "stream",
     "text": [
      "\n",
      "Dataset 1 Quality Issues:\n",
      "  Missing values: 24\n",
      "  'NA' string values: 0\n",
      "  'zero' string values: 5\n",
      "  Duplicate rows: 0\n",
      "\n",
      "Dataset 2 Quality Issues:\n",
      "  Missing values: 26\n",
      "  'NA' string values: 0\n",
      "  'zero' string values: 6\n",
      "  Duplicate rows: 0\n"
     ]
    }
   ],
   "source": [
    "for i, (name, df) in enumerate([(\"Dataset 1\", df1), (\"Dataset 2\", df2)], 1):\n",
    "     print(f\"\\n{name} Quality Issues:\")\n",
    "     print(f\"  Missing values: {df.isnull().sum().sum()}\")\n",
    "     print(f\"  'NA' string values: {(df == 'NA').sum().sum()}\")\n",
    "     print(f\"  'zero' string values: {(df == 'zero').sum().sum()}\")\n",
    "     print(f\"  Duplicate rows: {df.duplicated().sum()}\")"
   ]
  },
  {
   "cell_type": "code",
   "execution_count": 28,
   "id": "bb1a30d7",
   "metadata": {},
   "outputs": [],
   "source": [
    "stock2 = pd.concat([df1,df2],ignore_index=True)"
   ]
  },
  {
   "cell_type": "code",
   "execution_count": 29,
   "id": "a1180e0e",
   "metadata": {},
   "outputs": [
    {
     "name": "stdout",
     "output_type": "stream",
     "text": [
      "<class 'pandas.core.frame.DataFrame'>\n",
      "RangeIndex: 369 entries, 0 to 368\n",
      "Data columns (total 6 columns):\n",
      " #   Column  Non-Null Count  Dtype  \n",
      "---  ------  --------------  -----  \n",
      " 0   Date    369 non-null    object \n",
      " 1   Open    362 non-null    float64\n",
      " 2   High    353 non-null    float64\n",
      " 3   Low     356 non-null    float64\n",
      " 4   Close   355 non-null    float64\n",
      " 5   Volume  369 non-null    object \n",
      "dtypes: float64(4), object(2)\n",
      "memory usage: 17.4+ KB\n"
     ]
    }
   ],
   "source": [
    "stock2.info()"
   ]
  },
  {
   "cell_type": "code",
   "execution_count": 30,
   "id": "6f7168a8",
   "metadata": {},
   "outputs": [],
   "source": [
    "l = stock2.copy()"
   ]
  },
  {
   "cell_type": "code",
   "execution_count": 31,
   "id": "e252598e",
   "metadata": {},
   "outputs": [],
   "source": [
    "l['Date'] = pd.to_datetime(l['Date'], format='%d-%b-%y')"
   ]
  },
  {
   "cell_type": "code",
   "execution_count": 32,
   "id": "20074f4b",
   "metadata": {},
   "outputs": [
    {
     "data": {
      "text/plain": [
       "0     2006-06-01\n",
       "1     2006-06-12\n",
       "2     2006-06-22\n",
       "3     2006-07-03\n",
       "4     2006-07-13\n",
       "         ...    \n",
       "364   2016-07-11\n",
       "365   2016-07-21\n",
       "366   2016-08-01\n",
       "367   2016-08-11\n",
       "368   2016-08-22\n",
       "Name: Date, Length: 369, dtype: datetime64[ns]"
      ]
     },
     "execution_count": 32,
     "metadata": {},
     "output_type": "execute_result"
    }
   ],
   "source": [
    "l['Date']"
   ]
  },
  {
   "cell_type": "code",
   "execution_count": 33,
   "id": "a8a624c8",
   "metadata": {},
   "outputs": [
    {
     "data": {
      "text/plain": [
       "np.int64(0)"
      ]
     },
     "execution_count": 33,
     "metadata": {},
     "output_type": "execute_result"
    }
   ],
   "source": [
    "invalid_dates = l['Date'].isnull().sum()\n",
    "invalid_dates"
   ]
  },
  {
   "cell_type": "code",
   "execution_count": 34,
   "id": "6572d00e",
   "metadata": {},
   "outputs": [],
   "source": [
    "df_sorted_asc = df.sort_values(by='Date', ascending=True)"
   ]
  },
  {
   "cell_type": "code",
   "execution_count": 35,
   "id": "8ce90bad",
   "metadata": {},
   "outputs": [
    {
     "data": {
      "text/html": [
       "<div>\n",
       "<style scoped>\n",
       "    .dataframe tbody tr th:only-of-type {\n",
       "        vertical-align: middle;\n",
       "    }\n",
       "\n",
       "    .dataframe tbody tr th {\n",
       "        vertical-align: top;\n",
       "    }\n",
       "\n",
       "    .dataframe thead th {\n",
       "        text-align: right;\n",
       "    }\n",
       "</style>\n",
       "<table border=\"1\" class=\"dataframe\">\n",
       "  <thead>\n",
       "    <tr style=\"text-align: right;\">\n",
       "      <th></th>\n",
       "      <th>Date</th>\n",
       "      <th>Open</th>\n",
       "      <th>High</th>\n",
       "      <th>Low</th>\n",
       "      <th>Close</th>\n",
       "      <th>Volume</th>\n",
       "    </tr>\n",
       "  </thead>\n",
       "  <tbody>\n",
       "    <tr>\n",
       "      <th>0</th>\n",
       "      <td>2006-06-01</td>\n",
       "      <td>471.60</td>\n",
       "      <td>474.00</td>\n",
       "      <td>442.00</td>\n",
       "      <td>444.42</td>\n",
       "      <td>21900</td>\n",
       "    </tr>\n",
       "    <tr>\n",
       "      <th>1</th>\n",
       "      <td>2006-06-12</td>\n",
       "      <td>454.00</td>\n",
       "      <td>464.00</td>\n",
       "      <td>440.00</td>\n",
       "      <td>446.17</td>\n",
       "      <td>8400</td>\n",
       "    </tr>\n",
       "    <tr>\n",
       "      <th>2</th>\n",
       "      <td>2006-06-22</td>\n",
       "      <td>451.16</td>\n",
       "      <td>464.20</td>\n",
       "      <td>447.60</td>\n",
       "      <td>460.26</td>\n",
       "      <td>19400</td>\n",
       "    </tr>\n",
       "    <tr>\n",
       "      <th>3</th>\n",
       "      <td>2006-07-03</td>\n",
       "      <td>495.10</td>\n",
       "      <td>509.68</td>\n",
       "      <td>493.00</td>\n",
       "      <td>498.97</td>\n",
       "      <td>9100</td>\n",
       "    </tr>\n",
       "    <tr>\n",
       "      <th>4</th>\n",
       "      <td>2006-07-13</td>\n",
       "      <td>518.00</td>\n",
       "      <td>526.40</td>\n",
       "      <td>517.00</td>\n",
       "      <td>521.66</td>\n",
       "      <td>6800</td>\n",
       "    </tr>\n",
       "    <tr>\n",
       "      <th>...</th>\n",
       "      <td>...</td>\n",
       "      <td>...</td>\n",
       "      <td>...</td>\n",
       "      <td>...</td>\n",
       "      <td>...</td>\n",
       "      <td>...</td>\n",
       "    </tr>\n",
       "    <tr>\n",
       "      <th>364</th>\n",
       "      <td>2016-07-11</td>\n",
       "      <td>1265.50</td>\n",
       "      <td>1287.00</td>\n",
       "      <td>NaN</td>\n",
       "      <td>1276.40</td>\n",
       "      <td>11800</td>\n",
       "    </tr>\n",
       "    <tr>\n",
       "      <th>365</th>\n",
       "      <td>2016-07-21</td>\n",
       "      <td>1301.00</td>\n",
       "      <td>1322.10</td>\n",
       "      <td>1261.00</td>\n",
       "      <td>1270.55</td>\n",
       "      <td>36800</td>\n",
       "    </tr>\n",
       "    <tr>\n",
       "      <th>366</th>\n",
       "      <td>2016-08-01</td>\n",
       "      <td>1279.65</td>\n",
       "      <td>NaN</td>\n",
       "      <td>1247.40</td>\n",
       "      <td>1250.65</td>\n",
       "      <td>4600</td>\n",
       "    </tr>\n",
       "    <tr>\n",
       "      <th>367</th>\n",
       "      <td>2016-08-11</td>\n",
       "      <td>1180.05</td>\n",
       "      <td>683.00</td>\n",
       "      <td>1171.15</td>\n",
       "      <td>1191.35</td>\n",
       "      <td>4800</td>\n",
       "    </tr>\n",
       "    <tr>\n",
       "      <th>368</th>\n",
       "      <td>2016-08-22</td>\n",
       "      <td>1168.20</td>\n",
       "      <td>1168.20</td>\n",
       "      <td>1148.40</td>\n",
       "      <td>1155.55</td>\n",
       "      <td>2600</td>\n",
       "    </tr>\n",
       "  </tbody>\n",
       "</table>\n",
       "<p>369 rows × 6 columns</p>\n",
       "</div>"
      ],
      "text/plain": [
       "          Date     Open     High      Low    Close Volume\n",
       "0   2006-06-01   471.60   474.00   442.00   444.42  21900\n",
       "1   2006-06-12   454.00   464.00   440.00   446.17   8400\n",
       "2   2006-06-22   451.16   464.20   447.60   460.26  19400\n",
       "3   2006-07-03   495.10   509.68   493.00   498.97   9100\n",
       "4   2006-07-13   518.00   526.40   517.00   521.66   6800\n",
       "..         ...      ...      ...      ...      ...    ...\n",
       "364 2016-07-11  1265.50  1287.00      NaN  1276.40  11800\n",
       "365 2016-07-21  1301.00  1322.10  1261.00  1270.55  36800\n",
       "366 2016-08-01  1279.65      NaN  1247.40  1250.65   4600\n",
       "367 2016-08-11  1180.05   683.00  1171.15  1191.35   4800\n",
       "368 2016-08-22  1168.20  1168.20  1148.40  1155.55   2600\n",
       "\n",
       "[369 rows x 6 columns]"
      ]
     },
     "execution_count": 35,
     "metadata": {},
     "output_type": "execute_result"
    }
   ],
   "source": [
    "l"
   ]
  },
  {
   "cell_type": "code",
   "execution_count": 36,
   "id": "a9bda7dd",
   "metadata": {
    "vscode": {
     "languageId": "ruby"
    }
   },
   "outputs": [
    {
     "data": {
      "text/plain": [
       "np.int64(0)"
      ]
     },
     "execution_count": 36,
     "metadata": {},
     "output_type": "execute_result"
    }
   ],
   "source": [
    "l[\"High\"] = l[\"High\"].fillna(l[\"High\"].mean())\n",
    "l[\"Low\"] = l[\"Low\"].fillna(l[\"Low\"].mean())\n",
    "l[\"Open\"] = l[\"Open\"].fillna(l[\"Open\"].mean())\n",
    "l[\"Close\"] = l[\"Close\"].fillna(l[\"Close\"].mean())\n",
    "# l[\"Volume\"] = l[\"Volume\"].fillna(l[\"Volume\"].mean())\n",
    "\n",
    "l['High'].isnull().sum()\n",
    "l['Low'].isnull().sum()\n",
    "l['Open'].isnull().sum()\n",
    "l['Close'].isnull().sum()"
   ]
  },
  {
   "cell_type": "code",
   "execution_count": 37,
   "id": "dd546273",
   "metadata": {},
   "outputs": [
    {
     "name": "stdout",
     "output_type": "stream",
     "text": [
      "<class 'pandas.core.frame.DataFrame'>\n",
      "RangeIndex: 369 entries, 0 to 368\n",
      "Data columns (total 6 columns):\n",
      " #   Column  Non-Null Count  Dtype         \n",
      "---  ------  --------------  -----         \n",
      " 0   Date    369 non-null    datetime64[ns]\n",
      " 1   Open    369 non-null    float64       \n",
      " 2   High    369 non-null    float64       \n",
      " 3   Low     369 non-null    float64       \n",
      " 4   Close   369 non-null    float64       \n",
      " 5   Volume  369 non-null    object        \n",
      "dtypes: datetime64[ns](1), float64(4), object(1)\n",
      "memory usage: 17.4+ KB\n"
     ]
    }
   ],
   "source": [
    "l.info()"
   ]
  },
  {
   "cell_type": "code",
   "execution_count": 38,
   "id": "1984788e",
   "metadata": {},
   "outputs": [],
   "source": [
    "l['Volume'] = l['Volume'].replace('zero', 0).replace('NA', np.nan).astype(float)"
   ]
  },
  {
   "cell_type": "code",
   "execution_count": 39,
   "id": "a3109b0d",
   "metadata": {},
   "outputs": [
    {
     "name": "stdout",
     "output_type": "stream",
     "text": [
      "<class 'pandas.core.frame.DataFrame'>\n",
      "RangeIndex: 369 entries, 0 to 368\n",
      "Data columns (total 6 columns):\n",
      " #   Column  Non-Null Count  Dtype         \n",
      "---  ------  --------------  -----         \n",
      " 0   Date    369 non-null    datetime64[ns]\n",
      " 1   Open    369 non-null    float64       \n",
      " 2   High    369 non-null    float64       \n",
      " 3   Low     369 non-null    float64       \n",
      " 4   Close   369 non-null    float64       \n",
      " 5   Volume  369 non-null    float64       \n",
      "dtypes: datetime64[ns](1), float64(5)\n",
      "memory usage: 17.4 KB\n"
     ]
    }
   ],
   "source": [
    "l.info()"
   ]
  },
  {
   "cell_type": "code",
   "execution_count": 41,
   "id": "0f0aff2a",
   "metadata": {},
   "outputs": [
    {
     "data": {
      "text/plain": [
       "np.int64(0)"
      ]
     },
     "execution_count": 41,
     "metadata": {},
     "output_type": "execute_result"
    }
   ],
   "source": [
    "l['Date'].isnull().sum()\n",
    "l['Open'].isnull().sum()\n",
    "l['High'].isnull().sum()\n",
    "l['Low'].isnull().sum()\n",
    "l['Close'].isnull().sum()\n",
    "l['Volume'].isnull().sum()"
   ]
  },
  {
   "cell_type": "code",
   "execution_count": 43,
   "id": "e59e0b6c",
   "metadata": {},
   "outputs": [
    {
     "data": {
      "text/plain": [
       "np.int64(0)"
      ]
     },
     "execution_count": 43,
     "metadata": {},
     "output_type": "execute_result"
    }
   ],
   "source": [
    "l['Date'].isna().sum()\n",
    "l['Open'].isna().sum()\n",
    "l['High'].isna().sum()\n",
    "l['Low'].isna().sum()\n",
    "l['Close'].isna().sum()\n",
    "l['Volume'].isna().sum()"
   ]
  },
  {
   "cell_type": "code",
   "execution_count": 44,
   "id": "68725c82",
   "metadata": {},
   "outputs": [],
   "source": [
    "condition1 = (l['Low'] <= l['Open']) & (l['Open'] <= l['High'])\n",
    "condition2 = (l['Low'] <= l['Close']) & (l['Close'] <= l['High'])\n"
   ]
  },
  {
   "cell_type": "code",
   "execution_count": 45,
   "id": "78ddeef0",
   "metadata": {},
   "outputs": [],
   "source": [
    "valid_relationships = condition1 & condition2"
   ]
  },
  {
   "cell_type": "code",
   "execution_count": 46,
   "id": "4772cddc",
   "metadata": {},
   "outputs": [
    {
     "name": "stdout",
     "output_type": "stream",
     "text": [
      "\n",
      "Validation results: 311\n"
     ]
    }
   ],
   "source": [
    "print(f\"\\nValidation results:\", valid_relationships.sum())"
   ]
  },
  {
   "cell_type": "code",
   "execution_count": 47,
   "id": "e056c5ff",
   "metadata": {},
   "outputs": [
    {
     "name": "stdout",
     "output_type": "stream",
     "text": [
      "  Invalid relationships: 58\n"
     ]
    }
   ],
   "source": [
    "invalid_rows = ~valid_relationships\n",
    "\n",
    "invalid_count = invalid_rows.sum()\n",
    "\n",
    "print(f\"  Invalid relationships: {invalid_count}\")"
   ]
  },
  {
   "cell_type": "code",
   "execution_count": 48,
   "id": "589ea456",
   "metadata": {},
   "outputs": [
    {
     "name": "stdout",
     "output_type": "stream",
     "text": [
      "\n",
      "Sample of rows with invalid price relationships:\n"
     ]
    },
    {
     "data": {
      "text/html": [
       "<div>\n",
       "<style scoped>\n",
       "    .dataframe tbody tr th:only-of-type {\n",
       "        vertical-align: middle;\n",
       "    }\n",
       "\n",
       "    .dataframe tbody tr th {\n",
       "        vertical-align: top;\n",
       "    }\n",
       "\n",
       "    .dataframe thead th {\n",
       "        text-align: right;\n",
       "    }\n",
       "</style>\n",
       "<table border=\"1\" class=\"dataframe\">\n",
       "  <thead>\n",
       "    <tr style=\"text-align: right;\">\n",
       "      <th></th>\n",
       "      <th>Date</th>\n",
       "      <th>Open</th>\n",
       "      <th>High</th>\n",
       "      <th>Low</th>\n",
       "      <th>Close</th>\n",
       "    </tr>\n",
       "  </thead>\n",
       "  <tbody>\n",
       "    <tr>\n",
       "      <th>9</th>\n",
       "      <td>2006-09-01</td>\n",
       "      <td>890.291768</td>\n",
       "      <td>568.00</td>\n",
       "      <td>556.000000</td>\n",
       "      <td>564.040000</td>\n",
       "    </tr>\n",
       "    <tr>\n",
       "      <th>12</th>\n",
       "      <td>2006-10-03</td>\n",
       "      <td>591.000000</td>\n",
       "      <td>592.00</td>\n",
       "      <td>856.357472</td>\n",
       "      <td>585.960000</td>\n",
       "    </tr>\n",
       "    <tr>\n",
       "      <th>14</th>\n",
       "      <td>2006-10-23</td>\n",
       "      <td>674.140000</td>\n",
       "      <td>667.00</td>\n",
       "      <td>674.140000</td>\n",
       "      <td>704.450000</td>\n",
       "    </tr>\n",
       "    <tr>\n",
       "      <th>24</th>\n",
       "      <td>2007-02-01</td>\n",
       "      <td>729.800000</td>\n",
       "      <td>551.02</td>\n",
       "      <td>722.800000</td>\n",
       "      <td>760.550000</td>\n",
       "    </tr>\n",
       "    <tr>\n",
       "      <th>32</th>\n",
       "      <td>2007-04-23</td>\n",
       "      <td>780.000000</td>\n",
       "      <td>642.00</td>\n",
       "      <td>772.000000</td>\n",
       "      <td>781.630000</td>\n",
       "    </tr>\n",
       "    <tr>\n",
       "      <th>40</th>\n",
       "      <td>2007-07-12</td>\n",
       "      <td>1085.900000</td>\n",
       "      <td>1124.90</td>\n",
       "      <td>1085.900000</td>\n",
       "      <td>867.098817</td>\n",
       "    </tr>\n",
       "    <tr>\n",
       "      <th>44</th>\n",
       "      <td>2007-08-21</td>\n",
       "      <td>1060.000000</td>\n",
       "      <td>1060.00</td>\n",
       "      <td>990.000000</td>\n",
       "      <td>867.098817</td>\n",
       "    </tr>\n",
       "    <tr>\n",
       "      <th>45</th>\n",
       "      <td>2007-09-03</td>\n",
       "      <td>1131.000000</td>\n",
       "      <td>493.00</td>\n",
       "      <td>1131.000000</td>\n",
       "      <td>1172.400000</td>\n",
       "    </tr>\n",
       "    <tr>\n",
       "      <th>52</th>\n",
       "      <td>2007-11-12</td>\n",
       "      <td>1575.000000</td>\n",
       "      <td>644.00</td>\n",
       "      <td>1500.000000</td>\n",
       "      <td>1548.000000</td>\n",
       "    </tr>\n",
       "    <tr>\n",
       "      <th>53</th>\n",
       "      <td>2007-11-22</td>\n",
       "      <td>1550.000000</td>\n",
       "      <td>709.60</td>\n",
       "      <td>1453.000000</td>\n",
       "      <td>1525.000000</td>\n",
       "    </tr>\n",
       "  </tbody>\n",
       "</table>\n",
       "</div>"
      ],
      "text/plain": [
       "         Date         Open     High          Low        Close\n",
       "9  2006-09-01   890.291768   568.00   556.000000   564.040000\n",
       "12 2006-10-03   591.000000   592.00   856.357472   585.960000\n",
       "14 2006-10-23   674.140000   667.00   674.140000   704.450000\n",
       "24 2007-02-01   729.800000   551.02   722.800000   760.550000\n",
       "32 2007-04-23   780.000000   642.00   772.000000   781.630000\n",
       "40 2007-07-12  1085.900000  1124.90  1085.900000   867.098817\n",
       "44 2007-08-21  1060.000000  1060.00   990.000000   867.098817\n",
       "45 2007-09-03  1131.000000   493.00  1131.000000  1172.400000\n",
       "52 2007-11-12  1575.000000   644.00  1500.000000  1548.000000\n",
       "53 2007-11-22  1550.000000   709.60  1453.000000  1525.000000"
      ]
     },
     "metadata": {},
     "output_type": "display_data"
    },
    {
     "name": "stdout",
     "output_type": "stream",
     "text": [
      "\n",
      "✓ Removed 58 rows with invalid price relationships\n",
      "Remaining rows after validation: 311\n"
     ]
    }
   ],
   "source": [
    "if invalid_count > 0:\n",
    "    print(f\"\\nSample of rows with invalid price relationships:\")\n",
    "    invalid_sample = l[invalid_rows][['Date', 'Open', 'High', 'Low', 'Close']].head(10)\n",
    "    display(invalid_sample)\n",
    "    \n",
    "    # Remove invalid rows\n",
    "    l = l[valid_relationships].copy()\n",
    "    print(f\"\\n✓ Removed {invalid_count} rows with invalid price relationships\")\n",
    "else:\n",
    "    print(\"\\n✓ All price relationships are valid\")\n",
    "\n",
    "print(f\"Remaining rows after validation: {len(l)}\")"
   ]
  },
  {
   "cell_type": "code",
   "execution_count": 50,
   "id": "fea92236",
   "metadata": {},
   "outputs": [
    {
     "data": {
      "text/plain": [
       "np.int64(0)"
      ]
     },
     "execution_count": 50,
     "metadata": {},
     "output_type": "execute_result"
    }
   ],
   "source": [
    "l.duplicated().sum()"
   ]
  },
  {
   "cell_type": "code",
   "execution_count": 51,
   "id": "6b85ba3f",
   "metadata": {},
   "outputs": [],
   "source": [
    "non_trading_condition = (\n",
    "    (l['Open'] == l['High']) & \n",
    "    (l['High'] == l['Low']) & \n",
    "    (l['Low'] == l['Close']) & \n",
    "    (l['Volume'] == 0)\n",
    ")"
   ]
  },
  {
   "cell_type": "code",
   "execution_count": 53,
   "id": "588a79b5",
   "metadata": {},
   "outputs": [
    {
     "data": {
      "text/plain": [
       "np.int64(5)"
      ]
     },
     "execution_count": 53,
     "metadata": {},
     "output_type": "execute_result"
    }
   ],
   "source": [
    "non_trading_days = non_trading_condition.sum()\n",
    "non_trading_days"
   ]
  },
  {
   "cell_type": "code",
   "execution_count": 54,
   "id": "6b92928a",
   "metadata": {},
   "outputs": [
    {
     "data": {
      "text/html": [
       "<div>\n",
       "<style scoped>\n",
       "    .dataframe tbody tr th:only-of-type {\n",
       "        vertical-align: middle;\n",
       "    }\n",
       "\n",
       "    .dataframe tbody tr th {\n",
       "        vertical-align: top;\n",
       "    }\n",
       "\n",
       "    .dataframe thead th {\n",
       "        text-align: right;\n",
       "    }\n",
       "</style>\n",
       "<table border=\"1\" class=\"dataframe\">\n",
       "  <thead>\n",
       "    <tr style=\"text-align: right;\">\n",
       "      <th></th>\n",
       "      <th>Date</th>\n",
       "      <th>Open</th>\n",
       "      <th>High</th>\n",
       "      <th>Low</th>\n",
       "      <th>Close</th>\n",
       "      <th>Volume</th>\n",
       "    </tr>\n",
       "  </thead>\n",
       "  <tbody>\n",
       "    <tr>\n",
       "      <th>103</th>\n",
       "      <td>2009-04-10</td>\n",
       "      <td>458.75</td>\n",
       "      <td>458.75</td>\n",
       "      <td>458.75</td>\n",
       "      <td>458.75</td>\n",
       "      <td>0.0</td>\n",
       "    </tr>\n",
       "    <tr>\n",
       "      <th>129</th>\n",
       "      <td>2010-01-01</td>\n",
       "      <td>767.25</td>\n",
       "      <td>767.25</td>\n",
       "      <td>767.25</td>\n",
       "      <td>767.25</td>\n",
       "      <td>0.0</td>\n",
       "    </tr>\n",
       "    <tr>\n",
       "      <th>249</th>\n",
       "      <td>2013-05-01</td>\n",
       "      <td>519.55</td>\n",
       "      <td>519.55</td>\n",
       "      <td>519.55</td>\n",
       "      <td>519.55</td>\n",
       "      <td>0.0</td>\n",
       "    </tr>\n",
       "    <tr>\n",
       "      <th>338</th>\n",
       "      <td>2015-10-22</td>\n",
       "      <td>1237.75</td>\n",
       "      <td>1237.75</td>\n",
       "      <td>1237.75</td>\n",
       "      <td>1237.75</td>\n",
       "      <td>0.0</td>\n",
       "    </tr>\n",
       "    <tr>\n",
       "      <th>340</th>\n",
       "      <td>2015-11-12</td>\n",
       "      <td>1201.70</td>\n",
       "      <td>1201.70</td>\n",
       "      <td>1201.70</td>\n",
       "      <td>1201.70</td>\n",
       "      <td>0.0</td>\n",
       "    </tr>\n",
       "  </tbody>\n",
       "</table>\n",
       "</div>"
      ],
      "text/plain": [
       "          Date     Open     High      Low    Close  Volume\n",
       "103 2009-04-10   458.75   458.75   458.75   458.75     0.0\n",
       "129 2010-01-01   767.25   767.25   767.25   767.25     0.0\n",
       "249 2013-05-01   519.55   519.55   519.55   519.55     0.0\n",
       "338 2015-10-22  1237.75  1237.75  1237.75  1237.75     0.0\n",
       "340 2015-11-12  1201.70  1201.70  1201.70  1201.70     0.0"
      ]
     },
     "metadata": {},
     "output_type": "display_data"
    }
   ],
   "source": [
    "non_trading_sample = l[non_trading_condition][['Date', 'Open', 'High', 'Low', 'Close', 'Volume']].head()\n",
    "display(non_trading_sample)"
   ]
  },
  {
   "cell_type": "code",
   "execution_count": 55,
   "id": "c34d9fa3",
   "metadata": {},
   "outputs": [],
   "source": [
    "l=l[~non_trading_condition].copy()"
   ]
  },
  {
   "cell_type": "code",
   "execution_count": 56,
   "id": "fc55b07d",
   "metadata": {},
   "outputs": [
    {
     "data": {
      "text/plain": [
       "306"
      ]
     },
     "execution_count": 56,
     "metadata": {},
     "output_type": "execute_result"
    }
   ],
   "source": [
    "len(l)"
   ]
  },
  {
   "cell_type": "code",
   "execution_count": 62,
   "id": "98ce46b4",
   "metadata": {},
   "outputs": [
    {
     "data": {
      "text/plain": [
       "<Axes: xlabel='Open'>"
      ]
     },
     "execution_count": 62,
     "metadata": {},
     "output_type": "execute_result"
    },
    {
     "data": {
      "image/png": "[encoded data removed]",
      "text/plain": [
       "<Figure size 640x480 with 1 Axes>"
      ]
     },
     "metadata": {},
     "output_type": "display_data"
    }
   ],
   "source": [
    "sns.boxplot(x='Open', data=l, showfliers=True)\n",
    "\n",
    "\n"
   ]
  },
  {
   "cell_type": "code",
   "execution_count": 63,
   "id": "6c4d1e46",
   "metadata": {},
   "outputs": [
    {
     "data": {
      "text/plain": [
       "<Axes: xlabel='Close'>"
      ]
     },
     "execution_count": 63,
     "metadata": {},
     "output_type": "execute_result"
    },
    {
     "data": {
      "image/png": "[encoded data removed]",
      "text/plain": [
       "<Figure size 640x480 with 1 Axes>"
      ]
     },
     "metadata": {},
     "output_type": "display_data"
    }
   ],
   "source": [
    "sns.boxplot(x='Close', data=l, showfliers=True)\n"
   ]
  },
  {
   "cell_type": "code",
   "execution_count": 64,
   "id": "784273cf",
   "metadata": {},
   "outputs": [
    {
     "data": {
      "text/plain": [
       "<Axes: xlabel='High'>"
      ]
     },
     "execution_count": 64,
     "metadata": {},
     "output_type": "execute_result"
    },
    {
     "data": {
      "image/png": "[encoded data removed]",
      "text/plain": [
       "<Figure size 640x480 with 1 Axes>"
      ]
     },
     "metadata": {},
     "output_type": "display_data"
    }
   ],
   "source": [
    "sns.boxplot(x='High', data=l, showfliers=True)\n"
   ]
  },
  {
   "cell_type": "code",
   "execution_count": 65,
   "id": "e50a7201",
   "metadata": {},
   "outputs": [
    {
     "data": {
      "text/plain": [
       "<Axes: xlabel='Low'>"
      ]
     },
     "execution_count": 65,
     "metadata": {},
     "output_type": "execute_result"
    },
    {
     "data": {
      "image/png": "[encoded data removed]",
      "text/plain": [
       "<Figure size 640x480 with 1 Axes>"
      ]
     },
     "metadata": {},
     "output_type": "display_data"
    }
   ],
   "source": [
    "sns.boxplot(x='Low', data=l, showfliers=True)\n"
   ]
  },
  {
   "cell_type": "code",
   "execution_count": 66,
   "id": "dd6ba0d9",
   "metadata": {},
   "outputs": [
    {
     "data": {
      "text/plain": [
       "<Axes: xlabel='Volume'>"
      ]
     },
     "execution_count": 66,
     "metadata": {},
     "output_type": "execute_result"
    },
    {
     "data": {
      "image/png": "[encoded data removed]",
      "text/plain": [
       "<Figure size 640x480 with 1 Axes>"
      ]
     },
     "metadata": {},
     "output_type": "display_data"
    }
   ],
   "source": [
    "sns.boxplot(x='Volume', data=l, showfliers=True)"
   ]
  },
  {
   "cell_type": "code",
   "execution_count": 68,
   "id": "c1992c0e",
   "metadata": {},
   "outputs": [],
   "source": [
    "def detect_outliers_iqr(series, column_name):\n",
    "    \"\"\"Detect outliers using IQR method\"\"\"\n",
    "    Q1 = series.quantile(0.25)\n",
    "    Q3 = series.quantile(0.75)\n",
    "    IQR = Q3 - Q1\n",
    "    lower_bound = Q1 - 1.5 * IQR\n",
    "    upper_bound = Q3 + 1.5 * IQR\n",
    "    \n",
    "    outliers = (series < lower_bound) | (series > upper_bound)\n",
    "    outlier_count = outliers.sum()\n",
    "    \n",
    "    print(f\"  {column_name}:\")\n",
    "    print(f\"    Q1: {Q1:.2f}, Q3: {Q3:.2f}, IQR: {IQR:.2f}\")\n",
    "    print(f\"    Outlier range: < {lower_bound:.2f} or > {upper_bound:.2f}\")\n",
    "    print(f\"    Outliers detected: {outlier_count}\")\n",
    "    \n",
    "    return outliers, lower_bound, upper_bound"
   ]
  },
  {
   "cell_type": "code",
   "execution_count": 69,
   "id": "2215079f",
   "metadata": {},
   "outputs": [
    {
     "name": "stdout",
     "output_type": "stream",
     "text": [
      "\n",
      "Outlier detection for Volume:\n",
      "  Volume:\n",
      "    Q1: 7625.00, Q3: 47100.00, IQR: 39475.00\n",
      "    Outlier range: < -51587.50 or > 106312.50\n",
      "    Outliers detected: 28\n"
     ]
    }
   ],
   "source": [
    "print(\"\\nOutlier detection for Volume:\")\n",
    "volume_outliers, vol_lower, vol_upper = detect_outliers_iqr(l['Volume'], 'Volume')"
   ]
  },
  {
   "cell_type": "code",
   "execution_count": 72,
   "id": "b9343831",
   "metadata": {},
   "outputs": [
    {
     "data": {
      "text/plain": [
       "np.float64(70531.15454452971)"
      ]
     },
     "execution_count": 72,
     "metadata": {},
     "output_type": "execute_result"
    }
   ],
   "source": [
    "l['Volume'].std()"
   ]
  },
  {
   "cell_type": "code",
   "execution_count": 73,
   "id": "d21e6660",
   "metadata": {},
   "outputs": [],
   "source": [
    "l[\"Volume\"] = np.where(l[\"Volume\"] >= l['Volume'].quantile(0.99), l['Volume'].median(), l['Volume'])"
   ]
  },
  {
   "cell_type": "code",
   "execution_count": 74,
   "id": "0f640e96",
   "metadata": {},
   "outputs": [
    {
     "data": {
      "text/plain": [
       "count       306.000000\n",
       "mean      33767.320261\n",
       "std       42020.376135\n",
       "min        1400.000000\n",
       "25%        7625.000000\n",
       "50%       16175.000000\n",
       "75%       45000.000000\n",
       "max      230300.000000\n",
       "Name: Volume, dtype: float64"
      ]
     },
     "execution_count": 74,
     "metadata": {},
     "output_type": "execute_result"
    }
   ],
   "source": [
    "l[\"Volume\"].describe()"
   ]
  },
  {
   "cell_type": "code",
   "execution_count": 75,
   "id": "63978c30",
   "metadata": {},
   "outputs": [
    {
     "data": {
      "text/plain": [
       "<Axes: xlabel='Volume'>"
      ]
     },
     "execution_count": 75,
     "metadata": {},
     "output_type": "execute_result"
    },
    {
     "data": {
      "image/png": "[encoded data removed]",
      "text/plain": [
       "<Figure size 640x480 with 1 Axes>"
      ]
     },
     "metadata": {},
     "output_type": "display_data"
    }
   ],
   "source": [
    "sns.boxplot(x=l['Volume'])"
   ]
  },
  {
   "cell_type": "code",
   "execution_count": 76,
   "id": "cf99b0c4",
   "metadata": {},
   "outputs": [],
   "source": [
    "l[\"Volume\"] = np.where(l[\"Volume\"] >= 100000, l['Volume'].median(), l['Volume'])"
   ]
  },
  {
   "cell_type": "code",
   "execution_count": 77,
   "id": "47e3318d",
   "metadata": {},
   "outputs": [
    {
     "data": {
      "text/plain": [
       "<Axes: xlabel='Volume'>"
      ]
     },
     "execution_count": 77,
     "metadata": {},
     "output_type": "execute_result"
    },
    {
     "data": {
      "image/png": "[encoded data removed]",
      "text/plain": [
       "<Figure size 640x480 with 1 Axes>"
      ]
     },
     "metadata": {},
     "output_type": "display_data"
    }
   ],
   "source": [
    "sns.boxplot(x=l['Volume'])"
   ]
  },
  {
   "cell_type": "code",
   "execution_count": 78,
   "id": "1dccd6d9",
   "metadata": {},
   "outputs": [
    {
     "name": "stdout",
     "output_type": "stream",
     "text": [
      "\n",
      "Outlier detection for Volume:\n",
      "  Volume:\n",
      "    Q1: 7625.00, Q3: 30150.00, IQR: 22525.00\n",
      "    Outlier range: < -26162.50 or > 63937.50\n",
      "    Outliers detected: 27\n"
     ]
    }
   ],
   "source": [
    "print(\"\\nOutlier detection for Volume:\")\n",
    "volume_outliers, vol_lower, vol_upper = detect_outliers_iqr(l['Volume'], 'Volume')"
   ]
  },
  {
   "cell_type": "code",
   "execution_count": 83,
   "id": "5982264b",
   "metadata": {},
   "outputs": [],
   "source": [
    "from scipy import stats"
   ]
  },
  {
   "cell_type": "code",
   "execution_count": 85,
   "id": "336600b1",
   "metadata": {},
   "outputs": [
    {
     "name": "stdout",
     "output_type": "stream",
     "text": [
      "\n",
      "=== Outlier Detection ===\n",
      "\n",
      "Open:\n",
      "  IQR outliers: 1\n",
      "  Z-score outliers: 1\n",
      "  Combined outliers: 1\n",
      "  Outlier values:\n",
      "    Index 156: 1-May-15 - 2291.95\n",
      "\n",
      "High:\n",
      "  IQR outliers: 0\n",
      "  Z-score outliers: 0\n",
      "  Combined outliers: 0\n",
      "\n",
      "Low:\n",
      "  IQR outliers: 0\n",
      "  Z-score outliers: 0\n",
      "  Combined outliers: 0\n",
      "\n",
      "Close:\n",
      "  IQR outliers: 0\n",
      "  Z-score outliers: 0\n",
      "  Combined outliers: 0\n",
      "\n",
      "Volume:\n",
      "  IQR outliers: 19\n",
      "  Z-score outliers: 6\n",
      "  Combined outliers: 19\n",
      "  Outlier values:\n",
      "    Index 7: 11-Mar-11 - 37100.0\n",
      "    Index 13: 12-May-11 - 36900.0\n",
      "    Index 28: 13-Oct-11 - 38400.0\n",
      "    Index 37: 12-Jan-12 - 38200.0\n",
      "    Index 77: 21-Feb-13 - 98100.0\n",
      "    Index 86: 21-May-13 - 230200.0\n",
      "    Index 87: 3-Jun-13 - 47900.0\n",
      "    Index 100: 11-Oct-13 - 59400.0\n",
      "    Index 101: 21-Oct-13 - 44700.0\n",
      "    Index 113: 24-Feb-14 - 33300.0\n",
      "    Index 114: 3-Mar-14 - 99900.0\n",
      "    Index 115: 13-Mar-14 - 135800.0\n",
      "    Index 116: 24-Mar-14 - 48400.0\n",
      "    Index 117: 1-Apr-14 - 49800.0\n",
      "    Index 121: 12-May-14 - 131900.0\n",
      "    Index 122: 21-May-14 - 52700.0\n",
      "    Index 126: 1-Jul-14 - 38600.0\n",
      "    Index 132: 1-Sep-14 - 93300.0\n",
      "    Index 200: 21-Jul-16 - 36800.0\n",
      "\n",
      "=== Specific Problematic Entries Found ===\n",
      "\n",
      "Total problematic entries to remove: 0\n"
     ]
    }
   ],
   "source": [
    "# Identify outliers using multiple methods\n",
    "def identify_outliers_iqr(series, factor=1.5):\n",
    "    \"\"\"Identify outliers using IQR method\"\"\"\n",
    "    Q1 = series.quantile(0.25)\n",
    "    Q3 = series.quantile(0.75)\n",
    "    IQR = Q3 - Q1\n",
    "    lower_bound = Q1 - factor * IQR\n",
    "    upper_bound = Q3 + factor * IQR\n",
    "    return (series < lower_bound) | (series > upper_bound)\n",
    "\n",
    "def identify_outliers_zscore(series, threshold=3):\n",
    "    \"\"\"Identify outliers using Z-score method\"\"\"\n",
    "    z_scores = np.abs(stats.zscore(series.dropna()))\n",
    "    return z_scores > threshold\n",
    "\n",
    "def identify_outliers_modified_zscore(series, threshold=3.5):\n",
    "    \"\"\"Identify outliers using Modified Z-score method\"\"\"\n",
    "    median = series.median()\n",
    "    mad = np.median(np.abs(series - median))\n",
    "    modified_z_scores = 0.6745 * (series - median) / mad\n",
    "    return np.abs(modified_z_scores) > threshold\n",
    "\n",
    "# Create a copy for outlier analysis\n",
    "l = df.copy()\n",
    "\n",
    "print(\"\\n=== Outlier Detection ===\")\n",
    "\n",
    "outlier_summary = {}\n",
    "\n",
    "for col in ['Open', 'High', 'Low', 'Close', 'Volume']:\n",
    "    if col in l.columns:\n",
    "        # Convert to numeric if column is 'Volume'\n",
    "        if col == 'Volume':\n",
    "            l[col] = pd.to_numeric(l[col], errors='coerce')\n",
    "        # Remove rows where the column is NaN for outlier detection\n",
    "        valid_data = l[col].dropna()\n",
    "        \n",
    "        if len(valid_data) > 0:\n",
    "            # Method 1: IQR\n",
    "            iqr_outliers = identify_outliers_iqr(valid_data)\n",
    "            \n",
    "            # Method 2: Z-score (only if we have enough data)\n",
    "            if len(valid_data) > 10:\n",
    "                zscore_outliers = identify_outliers_zscore(valid_data)\n",
    "                # Align with original dataframe\n",
    "                zscore_mask = l[col].notna()\n",
    "                zscore_full = pd.Series(False, index=l.index)\n",
    "                zscore_full.loc[zscore_mask] = zscore_outliers\n",
    "            else:\n",
    "                zscore_full = pd.Series(False, index=l.index)\n",
    "            \n",
    "            # Align IQR outliers with original dataframe\n",
    "            iqr_mask = l[col].notna()\n",
    "            iqr_full = pd.Series(False, index=l.index)\n",
    "            iqr_full.loc[iqr_mask] = iqr_outliers\n",
    "            \n",
    "            # Combine methods (outlier if detected by either method)\n",
    "            combined_outliers = iqr_full | zscore_full\n",
    "            \n",
    "            outlier_summary[col] = {\n",
    "                'iqr_count': iqr_full.sum(),\n",
    "                'zscore_count': zscore_full.sum(),\n",
    "                'combined_count': combined_outliers.sum(),\n",
    "                'outlier_indices': l[combined_outliers].index.tolist()\n",
    "            }\n",
    "            \n",
    "            print(f\"\\n{col}:\")\n",
    "            print(f\"  IQR outliers: {iqr_full.sum()}\")\n",
    "            print(f\"  Z-score outliers: {zscore_full.sum()}\")\n",
    "            print(f\"  Combined outliers: {combined_outliers.sum()}\")\n",
    "            \n",
    "            if combined_outliers.sum() > 0:\n",
    "                print(\"  Outlier values:\")\n",
    "                outlier_rows = l[combined_outliers][['Date', col]]\n",
    "                for idx, row in outlier_rows.iterrows():\n",
    "                    print(f\"    Index {idx}: {row['Date']} - {row[col]}\")\n",
    "\n",
    "# Show specific problematic entries\n",
    "print(\"\\n=== Specific Problematic Entries Found ===\")\n",
    "\n",
    "# Check for extreme values that are clearly errors\n",
    "problematic_entries = []\n",
    "\n",
    "# Volume of 'zero' instead of 0\n",
    "zero_volume = l[l['Volume'] == 'zero']\n",
    "if not zero_volume.empty:\n",
    "    print(\"Entries with 'zero' volume:\")\n",
    "    print(zero_volume[['Date', 'Volume']])\n",
    "    problematic_entries.extend(zero_volume.index.tolist())\n",
    "\n",
    "# Extremely high values that seem like data entry errors\n",
    "for col in ['Open', 'High', 'Low', 'Close']:\n",
    "    if col in l.columns:\n",
    "        # Find values that are more than 10x the median (likely errors)\n",
    "        median_val = l[col].median()\n",
    "        extreme_high = l[l[col] > median_val * 10]\n",
    "        if not extreme_high.empty:\n",
    "            print(f\"\\nExtreme high values in {col} (>10x median):\")\n",
    "            print(extreme_high[['Date', col]])\n",
    "            problematic_entries.extend(extreme_high.index.tolist())\n",
    "\n",
    "# Remove duplicates from problematic entries\n",
    "problematic_entries = list(set(problematic_entries))\n",
    "\n",
    "print(f\"\\nTotal problematic entries to remove: {len(problematic_entries)}\")"
   ]
  },
  {
   "cell_type": "code",
   "execution_count": 86,
   "id": "d4c28111",
   "metadata": {},
   "outputs": [
    {
     "name": "stdout",
     "output_type": "stream",
     "text": [
      "          Date     Open     High      Low    Close   Volume\n",
      "0     3-Jan-11   798.00   824.95   796.00   810.55  17600.0\n",
      "1    13-Jan-11   748.10   768.00      NaN   752.85  13000.0\n",
      "2    24-Jan-11   741.00   626.01   732.55      NaN   8700.0\n",
      "3     1-Feb-11   753.00   753.00   712.10   717.25  23700.0\n",
      "4    11-Feb-11   647.90   654.55   626.35   642.40  12800.0\n",
      "..         ...      ...      ...      ...      ...      ...\n",
      "179   1-Jul-16  1225.20  1240.00  1216.20  1223.85   7000.0\n",
      "180  11-Jul-16  1265.50  1287.00      NaN  1276.40  11800.0\n",
      "181   1-Aug-16  1279.65      NaN  1247.40  1250.65   4600.0\n",
      "182  11-Aug-16  1180.05   683.00  1171.15  1191.35   4800.0\n",
      "183  22-Aug-16  1168.20  1168.20  1148.40  1155.55   2600.0\n",
      "\n",
      "[184 rows x 6 columns]\n"
     ]
    }
   ],
   "source": [
    "outlier_indexes = [156, 7, 13, 28, 37, 77, 86, 87, 100, 101, 113, 114, 115, 116, 117, 121, 122, 126, 132, 200]\n",
    "\n",
    "# Create a new DataFrame excluding the outliers\n",
    "cleaned_df = pd.DataFrame()\n",
    "\n",
    "for i in range(len(l)):\n",
    "    if i not in outlier_indexes:\n",
    "        cleaned_df = pd.concat([cleaned_df, l.iloc[[i]]])\n",
    "\n",
    "# Reset index if needed\n",
    "cleaned_df.reset_index(drop=True, inplace=True)\n",
    "\n",
    "print(cleaned_df)"
   ]
  },
  {
   "cell_type": "code",
   "execution_count": 87,
   "id": "f260cbf6",
   "metadata": {},
   "outputs": [
    {
     "name": "stdout",
     "output_type": "stream",
     "text": [
      "\n",
      "Outlier detection for Volume:\n",
      "  Volume:\n",
      "    Q1: 4925.00, Q3: 15425.00, IQR: 10500.00\n",
      "    Outlier range: < -10825.00 or > 31175.00\n",
      "    Outliers detected: 19\n"
     ]
    },
    {
     "data": {
      "text/plain": [
       "<Axes: xlabel='Volume'>"
      ]
     },
     "execution_count": 87,
     "metadata": {},
     "output_type": "execute_result"
    },
    {
     "data": {
      "image/png": "[encoded data removed]",
      "text/plain": [
       "<Figure size 640x480 with 1 Axes>"
      ]
     },
     "metadata": {},
     "output_type": "display_data"
    }
   ],
   "source": [
    "print(\"\\nOutlier detection for Volume:\")\n",
    "volume_outliers, vol_lower, vol_upper = detect_outliers_iqr(l['Volume'], 'Volume')\n",
    "sns.boxplot(x=l['Volume'])"
   ]
  },
  {
   "cell_type": "code",
   "execution_count": 91,
   "id": "e12af5e6",
   "metadata": {},
   "outputs": [
    {
     "name": "stdout",
     "output_type": "stream",
     "text": [
      "          Date     Open     High      Low    Close   Volume\n",
      "0     3-Jan-11   798.00   824.95   796.00   810.55  17600.0\n",
      "1    13-Jan-11   748.10   768.00      NaN   752.85  13000.0\n",
      "2    24-Jan-11   741.00   626.01   732.55      NaN   8700.0\n",
      "3     1-Feb-11   753.00   753.00   712.10   717.25  23700.0\n",
      "4    11-Feb-11   647.90   654.55   626.35   642.40  12800.0\n",
      "..         ...      ...      ...      ...      ...      ...\n",
      "174   1-Jul-16  1225.20  1240.00  1216.20  1223.85   7000.0\n",
      "175  11-Jul-16  1265.50  1287.00      NaN  1276.40  11800.0\n",
      "176   1-Aug-16  1279.65      NaN  1247.40  1250.65   4600.0\n",
      "177  11-Aug-16  1180.05   683.00  1171.15  1191.35   4800.0\n",
      "178  22-Aug-16  1168.20  1168.20  1148.40  1155.55   2600.0\n",
      "\n",
      "[179 rows x 6 columns]\n"
     ]
    }
   ],
   "source": [
    "\n",
    "# Ensure 'Volume' column in l is numeric\n",
    "l['Volume'] = pd.to_numeric(l['Volume'], errors='coerce')\n",
    "\n",
    "# Create new DataFrame excluding Volume outliers using for loop\n",
    "filtered_df = pd.DataFrame()\n",
    "\n",
    "for i in range(len(l)):\n",
    "    if pd.notnull(l.loc[i, 'Volume']) and l.loc[i, 'Volume'] <= upper_bound:\n",
    "        filtered_df = pd.concat([filtered_df, l.iloc[[i]]])\n",
    "\n",
    "# Reset index\n",
    "filtered_df.reset_index(drop=True, inplace=True)\n",
    "\n",
    "print(filtered_df)\n"
   ]
  },
  {
   "cell_type": "code",
   "execution_count": 92,
   "id": "c8a04719",
   "metadata": {},
   "outputs": [
    {
     "name": "stdout",
     "output_type": "stream",
     "text": [
      "\n",
      "Outlier detection for Volume:\n",
      "  Volume:\n",
      "    Q1: 4925.00, Q3: 15425.00, IQR: 10500.00\n",
      "    Outlier range: < -10825.00 or > 31175.00\n",
      "    Outliers detected: 19\n"
     ]
    },
    {
     "data": {
      "text/plain": [
       "<Axes: xlabel='Volume'>"
      ]
     },
     "execution_count": 92,
     "metadata": {},
     "output_type": "execute_result"
    },
    {
     "data": {
      "image/png": "[encoded data removed]",
      "text/plain": [
       "<Figure size 640x480 with 1 Axes>"
      ]
     },
     "metadata": {},
     "output_type": "display_data"
    }
   ],
   "source": [
    "print(\"\\nOutlier detection for Volume:\")\n",
    "volume_outliers, vol_lower, vol_upper = detect_outliers_iqr(l['Volume'], 'Volume')\n",
    "sns.boxplot(x=l['Volume'])"
   ]
  },
  {
   "cell_type": "code",
   "execution_count": 93,
   "id": "62c77670",
   "metadata": {},
   "outputs": [
    {
     "name": "stdout",
     "output_type": "stream",
     "text": [
      "Libraries imported successfully!\n",
      "Stock_File_1.csv loaded: (165, 6)\n",
      "Stock_File_2.txt loaded: (204, 6)\n",
      "Combined dataset shape: (369, 6)\n",
      "\n",
      "==================================================\n",
      "DATASET OVERVIEW\n",
      "==================================================\n",
      "<class 'pandas.core.frame.DataFrame'>\n",
      "RangeIndex: 369 entries, 0 to 368\n",
      "Data columns (total 6 columns):\n",
      " #   Column  Non-Null Count  Dtype  \n",
      "---  ------  --------------  -----  \n",
      " 0   Date    369 non-null    object \n",
      " 1   Open    362 non-null    float64\n",
      " 2   High    353 non-null    float64\n",
      " 3   Low     356 non-null    float64\n",
      " 4   Close   355 non-null    float64\n",
      " 5   Volume  369 non-null    object \n",
      "dtypes: float64(4), object(2)\n",
      "memory usage: 17.4+ KB\n",
      "None\n",
      "\n",
      "First few rows:\n",
      "        Date    Open    High    Low   Close Volume\n",
      "0   1-Jun-06  471.60  474.00  442.0  444.42  21900\n",
      "1  12-Jun-06  454.00  464.00  440.0  446.17   8400\n",
      "2  22-Jun-06  451.16  464.20  447.6  460.26  19400\n",
      "3   3-Jul-06  495.10  509.68  493.0  498.97   9100\n",
      "4  13-Jul-06  518.00  526.40  517.0  521.66   6800\n",
      "\n",
      "Column names:\n",
      "['Date', 'Open', 'High', 'Low', 'Close', 'Volume']\n",
      "Unique Volume values (first 20):\n",
      "['21900' '8400' '19400' '9100' '6800' '51700' '24600' '32200' '13600'\n",
      " '12300' '17100' '5900' '6200' '24800' '65700' '23500' '46100' '11500'\n",
      " '33300' '130800']\n",
      "\n",
      "Missing values in Volume: 0\n",
      "Zero values in Volume: 11\n",
      "\n",
      "==================================================\n",
      "VOLUME STATISTICS (After Cleaning)\n",
      "==================================================\n",
      "count       369.000000\n",
      "mean      39097.831978\n",
      "std       67323.679903\n",
      "min           0.000000\n",
      "25%        6800.000000\n",
      "50%       16400.000000\n",
      "75%       47100.000000\n",
      "max      843600.000000\n",
      "Name: Volume, dtype: float64\n",
      "\n",
      "==================================================\n",
      "OUTLIER DETECTION RESULTS\n",
      "==================================================\n",
      "\n",
      "IQR:\n",
      "  Outliers detected: 34\n",
      "  Percentage: 9.50%\n",
      "  Bounds: [-52712.50, 108187.50]\n",
      "\n",
      "Z-Score:\n",
      "  Outliers detected: 4\n",
      "  Percentage: 1.12%\n",
      "  Threshold: 3\n",
      "\n",
      "Modified Z-Score:\n",
      "  Outliers detected: 46\n",
      "  Percentage: 12.85%\n",
      "  Threshold: 3.5\n",
      "\n",
      "Percentile (1%-99%):\n",
      "  Outliers detected: 7\n",
      "  Percentage: 1.96%\n",
      "  Bounds: [2800.00, 248231.00]\n"
     ]
    },
    {
     "data": {
      "image/png": "[encoded data removed]",
      "text/plain": [
       "<Figure size 1500x1200 with 4 Axes>"
      ]
     },
     "metadata": {},
     "output_type": "display_data"
    },
    {
     "name": "stdout",
     "output_type": "stream",
     "text": [
      "\n",
      "==================================================\n",
      "APPLYING OUTLIER TREATMENTS\n",
      "==================================================\n",
      "\n",
      "Outlier Treatment Applied:\n",
      "Method: IQR\n",
      "Strategy: CAP\n",
      "Outliers detected: 34\n",
      "Rows removed: 0\n",
      "Original dataset size: 369\n",
      "Treated dataset size: 369\n",
      "\n",
      "Outlier Treatment Applied:\n",
      "Method: IQR\n",
      "Strategy: REMOVE\n",
      "Outliers detected: 34\n",
      "Rows removed: 34\n",
      "Original dataset size: 369\n",
      "Treated dataset size: 335\n",
      "\n",
      "Outlier Treatment Applied:\n",
      "Method: ZSCORE\n",
      "Strategy: CAP\n",
      "Outliers detected: 4\n",
      "Rows removed: 0\n",
      "Original dataset size: 369\n",
      "Treated dataset size: 369\n",
      "\n",
      "Outlier Treatment Applied:\n",
      "Method: PERCENTILE\n",
      "Strategy: CAP\n",
      "Outliers detected: 7\n",
      "Rows removed: 0\n",
      "Original dataset size: 369\n",
      "Treated dataset size: 369\n",
      "\n",
      "Outlier Treatment Applied:\n",
      "Method: IQR\n",
      "Strategy: TRANSFORM\n",
      "Outliers detected: 34\n",
      "Rows removed: 0\n",
      "Original dataset size: 369\n",
      "Treated dataset size: 369\n",
      "\n",
      "==================================================\n",
      "TREATMENT COMPARISON\n",
      "==================================================\n",
      "                Method  Count      Mean    Median       Std      Min  \\\n",
      "0             Original    358  40299.16  17150.00  67996.95  1400.00   \n",
      "1              iqr_cap    358  32496.86  17150.00  33494.64  1400.00   \n",
      "2           iqr_remove    324  24554.01  13950.00  23950.78  1400.00   \n",
      "3           zscore_cap    358  37638.44  17150.00  48694.26  1400.00   \n",
      "4       percentile_cap    358  37687.50  17150.00  48879.40  2800.00   \n",
      "5  iqr_transform (Log)    358      9.87      9.75      1.18     7.24   \n",
      "\n",
      "         Max  Skewness  \n",
      "0  843600.00      6.10  \n",
      "1  108187.50      1.23  \n",
      "2  107800.00      1.41  \n",
      "3  244290.03      2.32  \n",
      "4  248231.00      2.34  \n",
      "5      13.65      0.35  \n"
     ]
    },
    {
     "data": {
      "image/png": "[encoded data removed]",
      "text/plain": [
       "<Figure size 1800x1200 with 6 Axes>"
      ]
     },
     "metadata": {},
     "output_type": "display_data"
    },
    {
     "name": "stdout",
     "output_type": "stream",
     "text": [
      "\n",
      "==================================================\n",
      "RECOMMENDATIONS FOR OUTLIER HANDLING\n",
      "==================================================\n",
      "\n",
      "Based on the analysis, here are the recommended approaches for handling outliers in volume data:\n",
      "\n",
      "1. **IQR with Capping (iqr_cap)**: \n",
      "   - Best for preserving data while reducing extreme impact\n",
      "   - Maintains statistical relationships\n",
      "   - Recommended for most analyses\n",
      "\n",
      "2. **Percentile Method (percentile_cap)**:\n",
      "   - Good for extremely skewed data\n",
      "   - Less sensitive to extreme outliers\n",
      "   - Use 1st and 99th percentiles as bounds\n",
      "\n",
      "3. **Log Transformation (iqr_transform)**:\n",
      "   - Excellent for highly skewed volume data\n",
      "   - Reduces impact of outliers naturally\n",
      "   - Preferred for regression analyses\n",
      "\n",
      "4. **Z-Score Method**:\n",
      "   - Use when data is approximately normal\n",
      "   - Good for datasets with moderate outliers\n",
      "\n",
      "5. **Removal Strategy**:\n",
      "   - Use only when outliers are clearly data errors\n",
      "   - Can reduce dataset size significantly\n",
      "   - May introduce bias\n",
      "\n",
      "**General Guidelines:**\n",
      "- Always visualize data before and after treatment\n",
      "- Consider the business context (some high volumes may be legitimate)\n",
      "- Document your outlier handling approach\n",
      "- Test model performance with different methods\n",
      "- Consider using robust statistical methods instead of removing outliers\n",
      "\n",
      "\n",
      "==================================================\n",
      "EXAMPLE: COMPLETE OUTLIER HANDLING\n",
      "==================================================\n",
      "Unique Volume values (first 20):\n",
      "[ 21900   8400  19400   9100   6800  51700  24600  32200  13600  12300\n",
      "  17100   5900   6200  24800  65700  23500  46100  11500  33300 130800]\n",
      "\n",
      "Missing values in Volume: 0\n",
      "Zero values in Volume: 11\n",
      "\n",
      "Outlier Treatment Applied:\n",
      "Method: IQR\n",
      "Strategy: CAP\n",
      "Outliers detected: 34\n",
      "Rows removed: 0\n",
      "Original dataset size: 369\n",
      "Treated dataset size: 369\n"
     ]
    },
    {
     "data": {
      "image/png": "[encoded data removed]",
      "text/plain": [
       "<Figure size 1500x500 with 2 Axes>"
      ]
     },
     "metadata": {},
     "output_type": "display_data"
    },
    {
     "name": "stdout",
     "output_type": "stream",
     "text": [
      "\n",
      "Final dataset shape: (369, 6)\n",
      "Outliers detected and handled: 34\n",
      "\n",
      "==================================================\n",
      "NOTEBOOK COMPLETE\n",
      "==================================================\n",
      "You can now use the handle_volume_outliers() function with your data!\n"
     ]
    }
   ],
   "source": [
    "# Stock Data Outlier Handling - Volume Variable\n",
    "# Jupyter Notebook for handling outliers in stock trading volume data\n",
    "\n",
    "# Import required libraries\n",
    "import pandas as pd\n",
    "import numpy as np\n",
    "import matplotlib.pyplot as plt\n",
    "import seaborn as sns\n",
    "from scipy import stats\n",
    "import warnings\n",
    "warnings.filterwarnings('ignore')\n",
    "\n",
    "# Set plotting style\n",
    "plt.style.use('seaborn-v0_8')\n",
    "sns.set_palette(\"husl\")\n",
    "\n",
    "print(\"Libraries imported successfully!\")\n",
    "\n",
    "# ## 1. Data Loading and Initial Exploration\n",
    "\n",
    "# Load the stock data files\n",
    "def load_stock_data():\n",
    "    \"\"\"Load and combine stock data from CSV and TXT files\"\"\"\n",
    "    try:\n",
    "        # Load CSV file (Stock_File_1.csv)\n",
    "        df1 = pd.read_csv('Stock_File_1.csv')\n",
    "        print(f\"Stock_File_1.csv loaded: {df1.shape}\")\n",
    "        \n",
    "        # Load TXT file (Stock_File_2.txt) - assuming it's comma-separated\n",
    "        df2 = pd.read_csv('Stock_File_2.txt')\n",
    "        print(f\"Stock_File_2.txt loaded: {df2.shape}\")\n",
    "        \n",
    "        # Combine both datasets\n",
    "        combined_df = pd.concat([df1, df2], ignore_index=True)\n",
    "        print(f\"Combined dataset shape: {combined_df.shape}\")\n",
    "        \n",
    "        return df1, df2, combined_df\n",
    "    \n",
    "    except FileNotFoundError as e:\n",
    "        print(f\"Error loading files: {e}\")\n",
    "        print(\"Please ensure the files are in the same directory as this notebook\")\n",
    "        return None, None, None\n",
    "\n",
    "# Load the data\n",
    "df1, df2, df_combined = load_stock_data()\n",
    "\n",
    "# Display basic information about the combined dataset\n",
    "if df_combined is not None:\n",
    "    print(\"\\n\" + \"=\"*50)\n",
    "    print(\"DATASET OVERVIEW\")\n",
    "    print(\"=\"*50)\n",
    "    print(df_combined.info())\n",
    "    print(\"\\nFirst few rows:\")\n",
    "    print(df_combined.head())\n",
    "    print(\"\\nColumn names:\")\n",
    "    print(df_combined.columns.tolist())\n",
    "\n",
    "# ## 2. Data Cleaning and Preprocessing\n",
    "\n",
    "def clean_volume_data(df):\n",
    "    \"\"\"Clean and preprocess the Volume column\"\"\"\n",
    "    df_clean = df.copy()\n",
    "    \n",
    "    # Convert Date to datetime\n",
    "    df_clean['Date'] = pd.to_datetime(df_clean['Date'], errors='coerce')\n",
    "    \n",
    "    # Handle special values in Volume column\n",
    "    print(\"Unique Volume values (first 20):\")\n",
    "    unique_volumes = df_clean['Volume'].unique()\n",
    "    print(unique_volumes[:20])\n",
    "    \n",
    "    # Replace 'zero' with 0\n",
    "    df_clean['Volume'] = df_clean['Volume'].replace('zero', 0)\n",
    "    \n",
    "    # Convert Volume to numeric, handling any remaining non-numeric values\n",
    "    df_clean['Volume'] = pd.to_numeric(df_clean['Volume'], errors='coerce')\n",
    "    \n",
    "    # Handle missing values\n",
    "    print(f\"\\nMissing values in Volume: {df_clean['Volume'].isnull().sum()}\")\n",
    "    print(f\"Zero values in Volume: {(df_clean['Volume'] == 0).sum()}\")\n",
    "    \n",
    "    return df_clean\n",
    "\n",
    "# Clean the data\n",
    "if df_combined is not None:\n",
    "    df_clean = clean_volume_data(df_combined)\n",
    "    \n",
    "    print(\"\\n\" + \"=\"*50)\n",
    "    print(\"VOLUME STATISTICS (After Cleaning)\")\n",
    "    print(\"=\"*50)\n",
    "    print(df_clean['Volume'].describe())\n",
    "\n",
    "# ## 3. Outlier Detection Methods\n",
    "\n",
    "def detect_outliers_multiple_methods(df, column='Volume'):\n",
    "    \"\"\"Detect outliers using multiple statistical methods\"\"\"\n",
    "    \n",
    "    # Remove missing values and zeros for outlier analysis\n",
    "    data = df[column].dropna()\n",
    "    data_non_zero = data[data > 0]  # Focus on non-zero volumes\n",
    "    \n",
    "    outlier_results = {}\n",
    "    \n",
    "    # Method 1: IQR (Interquartile Range)\n",
    "    Q1 = data_non_zero.quantile(0.25)\n",
    "    Q3 = data_non_zero.quantile(0.75)\n",
    "    IQR = Q3 - Q1\n",
    "    lower_bound = Q1 - 1.5 * IQR\n",
    "    upper_bound = Q3 + 1.5 * IQR\n",
    "    \n",
    "    iqr_outliers = data_non_zero[(data_non_zero < lower_bound) | (data_non_zero > upper_bound)]\n",
    "    outlier_results['IQR'] = {\n",
    "        'count': len(iqr_outliers),\n",
    "        'percentage': (len(iqr_outliers) / len(data_non_zero)) * 100,\n",
    "        'lower_bound': lower_bound,\n",
    "        'upper_bound': upper_bound,\n",
    "        'outliers': iqr_outliers\n",
    "    }\n",
    "    \n",
    "    # Method 2: Z-Score\n",
    "    z_scores = np.abs(stats.zscore(data_non_zero))\n",
    "    z_threshold = 3\n",
    "    z_outliers = data_non_zero[z_scores > z_threshold]\n",
    "    outlier_results['Z-Score'] = {\n",
    "        'count': len(z_outliers),\n",
    "        'percentage': (len(z_outliers) / len(data_non_zero)) * 100,\n",
    "        'threshold': z_threshold,\n",
    "        'outliers': z_outliers\n",
    "    }\n",
    "    \n",
    "    # Method 3: Modified Z-Score (using median)\n",
    "    median = np.median(data_non_zero)\n",
    "    mad = np.median(np.abs(data_non_zero - median))\n",
    "    modified_z_scores = 0.6745 * (data_non_zero - median) / mad\n",
    "    modified_z_threshold = 3.5\n",
    "    modified_z_outliers = data_non_zero[np.abs(modified_z_scores) > modified_z_threshold]\n",
    "    outlier_results['Modified Z-Score'] = {\n",
    "        'count': len(modified_z_outliers),\n",
    "        'percentage': (len(modified_z_outliers) / len(data_non_zero)) * 100,\n",
    "        'threshold': modified_z_threshold,\n",
    "        'outliers': modified_z_outliers\n",
    "    }\n",
    "    \n",
    "    # Method 4: Percentile-based\n",
    "    percentile_99 = data_non_zero.quantile(0.99)\n",
    "    percentile_1 = data_non_zero.quantile(0.01)\n",
    "    percentile_outliers = data_non_zero[(data_non_zero > percentile_99) | (data_non_zero < percentile_1)]\n",
    "    outlier_results['Percentile (1%-99%)'] = {\n",
    "        'count': len(percentile_outliers),\n",
    "        'percentage': (len(percentile_outliers) / len(data_non_zero)) * 100,\n",
    "        'lower_bound': percentile_1,\n",
    "        'upper_bound': percentile_99,\n",
    "        'outliers': percentile_outliers\n",
    "    }\n",
    "    \n",
    "    return outlier_results, data_non_zero\n",
    "\n",
    "# Detect outliers\n",
    "if df_combined is not None:\n",
    "    outlier_results, volume_data = detect_outliers_multiple_methods(df_clean)\n",
    "    \n",
    "    print(\"\\n\" + \"=\"*50)\n",
    "    print(\"OUTLIER DETECTION RESULTS\")\n",
    "    print(\"=\"*50)\n",
    "    \n",
    "    for method, results in outlier_results.items():\n",
    "        print(f\"\\n{method}:\")\n",
    "        print(f\"  Outliers detected: {results['count']}\")\n",
    "        print(f\"  Percentage: {results['percentage']:.2f}%\")\n",
    "        if 'lower_bound' in results and 'upper_bound' in results:\n",
    "            print(f\"  Bounds: [{results['lower_bound']:.2f}, {results['upper_bound']:.2f}]\")\n",
    "        elif 'threshold' in results:\n",
    "            print(f\"  Threshold: {results['threshold']}\")\n",
    "\n",
    "# ## 4. Visualization of Outliers\n",
    "\n",
    "def visualize_outliers(df, volume_data, outlier_results):\n",
    "    \"\"\"Create comprehensive visualizations for outlier analysis\"\"\"\n",
    "    \n",
    "    fig, axes = plt.subplots(2, 2, figsize=(15, 12))\n",
    "    fig.suptitle('Volume Data Outlier Analysis', fontsize=16, fontweight='bold')\n",
    "    \n",
    "    # 1. Box plot\n",
    "    axes[0, 0].boxplot(volume_data, vert=True)\n",
    "    axes[0, 0].set_title('Box Plot of Volume Data')\n",
    "    axes[0, 0].set_ylabel('Volume')\n",
    "    axes[0, 0].grid(True, alpha=0.3)\n",
    "    \n",
    "    # 2. Histogram with outliers highlighted\n",
    "    axes[0, 1].hist(volume_data, bins=50, alpha=0.7, color='skyblue', edgecolor='black')\n",
    "    \n",
    "    # Highlight IQR outliers\n",
    "    iqr_outliers = outlier_results['IQR']['outliers']\n",
    "    axes[0, 1].hist(iqr_outliers, bins=50, alpha=0.8, color='red', label=f'IQR Outliers ({len(iqr_outliers)})')\n",
    "    axes[0, 1].set_title('Volume Distribution with IQR Outliers')\n",
    "    axes[0, 1].set_xlabel('Volume')\n",
    "    axes[0, 1].set_ylabel('Frequency')\n",
    "    axes[0, 1].legend()\n",
    "    axes[0, 1].grid(True, alpha=0.3)\n",
    "    \n",
    "    # 3. Log-scale histogram\n",
    "    log_volume = np.log1p(volume_data)  # log(1+x) to handle zeros\n",
    "    axes[1, 0].hist(log_volume, bins=50, alpha=0.7, color='lightgreen', edgecolor='black')\n",
    "    axes[1, 0].set_title('Log-Scale Volume Distribution')\n",
    "    axes[1, 0].set_xlabel('Log(Volume + 1)')\n",
    "    axes[1, 0].set_ylabel('Frequency')\n",
    "    axes[1, 0].grid(True, alpha=0.3)\n",
    "    \n",
    "    # 4. Time series plot with outliers\n",
    "    df_plot = df[df['Volume'].notna() & (df['Volume'] > 0)].copy()\n",
    "    df_plot = df_plot.sort_values('Date')\n",
    "    \n",
    "    axes[1, 1].plot(df_plot['Date'], df_plot['Volume'], alpha=0.6, linewidth=1)\n",
    "    \n",
    "    # Highlight outliers in time series\n",
    "    upper_bound = outlier_results['IQR']['upper_bound']\n",
    "    outlier_mask = df_plot['Volume'] > upper_bound\n",
    "    outlier_dates = df_plot[outlier_mask]['Date']\n",
    "    outlier_volumes = df_plot[outlier_mask]['Volume']\n",
    "    \n",
    "    axes[1, 1].scatter(outlier_dates, outlier_volumes, color='red', s=50, alpha=0.8, label='Outliers')\n",
    "    axes[1, 1].set_title('Volume Time Series with Outliers')\n",
    "    axes[1, 1].set_xlabel('Date')\n",
    "    axes[1, 1].set_ylabel('Volume')\n",
    "    axes[1, 1].legend()\n",
    "    axes[1, 1].grid(True, alpha=0.3)\n",
    "    \n",
    "    plt.tight_layout()\n",
    "    plt.show()\n",
    "\n",
    "# Create visualizations\n",
    "if df_combined is not None:\n",
    "    visualize_outliers(df_clean, volume_data, outlier_results)\n",
    "\n",
    "# ## 5. Outlier Treatment Methods\n",
    "\n",
    "def treat_outliers(df, method='iqr', strategy='cap'):\n",
    "    \"\"\"\n",
    "    Treat outliers using various methods and strategies\n",
    "    \n",
    "    Parameters:\n",
    "    - method: 'iqr', 'zscore', 'modified_zscore', 'percentile'\n",
    "    - strategy: 'cap', 'remove', 'transform', 'impute'\n",
    "    \"\"\"\n",
    "    \n",
    "    df_treated = df.copy()\n",
    "    original_count = len(df_treated)\n",
    "    \n",
    "    # Focus on non-zero, non-null volumes\n",
    "    mask = (df_treated['Volume'].notna()) & (df_treated['Volume'] > 0)\n",
    "    volume_data = df_treated.loc[mask, 'Volume']\n",
    "    \n",
    "    if method == 'iqr':\n",
    "        Q1 = volume_data.quantile(0.25)\n",
    "        Q3 = volume_data.quantile(0.75)\n",
    "        IQR = Q3 - Q1\n",
    "        lower_bound = Q1 - 1.5 * IQR\n",
    "        upper_bound = Q3 + 1.5 * IQR\n",
    "        outlier_mask = (volume_data < lower_bound) | (volume_data > upper_bound)\n",
    "        \n",
    "    elif method == 'zscore':\n",
    "        z_scores = np.abs(stats.zscore(volume_data))\n",
    "        outlier_mask = z_scores > 3\n",
    "        upper_bound = volume_data.mean() + 3 * volume_data.std()\n",
    "        lower_bound = volume_data.mean() - 3 * volume_data.std()\n",
    "        \n",
    "    elif method == 'modified_zscore':\n",
    "        median = volume_data.median()\n",
    "        mad = np.median(np.abs(volume_data - median))\n",
    "        modified_z_scores = 0.6745 * (volume_data - median) / mad\n",
    "        outlier_mask = np.abs(modified_z_scores) > 3.5\n",
    "        upper_bound = median + 3.5 * mad / 0.6745\n",
    "        lower_bound = median - 3.5 * mad / 0.6745\n",
    "        \n",
    "    elif method == 'percentile':\n",
    "        lower_bound = volume_data.quantile(0.01)\n",
    "        upper_bound = volume_data.quantile(0.99)\n",
    "        outlier_mask = (volume_data < lower_bound) | (volume_data > upper_bound)\n",
    "    \n",
    "    outlier_indices = volume_data[outlier_mask].index\n",
    "    \n",
    "    if strategy == 'cap':\n",
    "        # Cap outliers to bounds\n",
    "        df_treated.loc[outlier_indices, 'Volume'] = np.where(\n",
    "            df_treated.loc[outlier_indices, 'Volume'] > upper_bound,\n",
    "            upper_bound,\n",
    "            np.where(df_treated.loc[outlier_indices, 'Volume'] < lower_bound, lower_bound, df_treated.loc[outlier_indices, 'Volume'])\n",
    "        )\n",
    "        removed_count = 0\n",
    "        \n",
    "    elif strategy == 'remove':\n",
    "        # Remove outlier rows\n",
    "        df_treated = df_treated.drop(outlier_indices)\n",
    "        removed_count = len(outlier_indices)\n",
    "        \n",
    "    elif strategy == 'transform':\n",
    "        # Log transformation for all positive volumes\n",
    "        df_treated.loc[mask, 'Volume_log'] = np.log1p(df_treated.loc[mask, 'Volume'])\n",
    "        removed_count = 0\n",
    "        \n",
    "    elif strategy == 'impute':\n",
    "        # Replace outliers with median\n",
    "        median_volume = volume_data.median()\n",
    "        df_treated.loc[outlier_indices, 'Volume'] = median_volume\n",
    "        removed_count = 0\n",
    "    \n",
    "    print(f\"\\nOutlier Treatment Applied:\")\n",
    "    print(f\"Method: {method.upper()}\")\n",
    "    print(f\"Strategy: {strategy.upper()}\")\n",
    "    print(f\"Outliers detected: {len(outlier_indices)}\")\n",
    "    print(f\"Rows removed: {removed_count}\")\n",
    "    print(f\"Original dataset size: {original_count}\")\n",
    "    print(f\"Treated dataset size: {len(df_treated)}\")\n",
    "    \n",
    "    return df_treated, outlier_indices\n",
    "\n",
    "# ## 6. Apply Different Treatment Methods\n",
    "\n",
    "# Example: Apply different treatment methods\n",
    "treatment_methods = [\n",
    "    ('iqr', 'cap'),\n",
    "    ('iqr', 'remove'),\n",
    "    ('zscore', 'cap'),\n",
    "    ('percentile', 'cap'),\n",
    "    ('iqr', 'transform')\n",
    "]\n",
    "\n",
    "treated_datasets = {}\n",
    "\n",
    "if df_combined is not None:\n",
    "    print(\"\\n\" + \"=\"*50)\n",
    "    print(\"APPLYING OUTLIER TREATMENTS\")\n",
    "    print(\"=\"*50)\n",
    "    \n",
    "    for method, strategy in treatment_methods:\n",
    "        try:\n",
    "            treated_df, outlier_idx = treat_outliers(df_clean, method=method, strategy=strategy)\n",
    "            key = f\"{method}_{strategy}\"\n",
    "            treated_datasets[key] = treated_df\n",
    "        except Exception as e:\n",
    "            print(f\"Error applying {method}-{strategy}: {e}\")\n",
    "\n",
    "# ## 7. Compare Treatment Results\n",
    "\n",
    "def compare_treatments(original_df, treated_datasets):\n",
    "    \"\"\"Compare the effects of different outlier treatments\"\"\"\n",
    "    \n",
    "    comparison_stats = []\n",
    "    \n",
    "    # Original dataset stats\n",
    "    orig_volume = original_df['Volume'].dropna()\n",
    "    orig_volume = orig_volume[orig_volume > 0]\n",
    "    \n",
    "    comparison_stats.append({\n",
    "        'Method': 'Original',\n",
    "        'Count': len(orig_volume),\n",
    "        'Mean': orig_volume.mean(),\n",
    "        'Median': orig_volume.median(),\n",
    "        'Std': orig_volume.std(),\n",
    "        'Min': orig_volume.min(),\n",
    "        'Max': orig_volume.max(),\n",
    "        'Skewness': stats.skew(orig_volume)\n",
    "    })\n",
    "    \n",
    "    # Treated datasets stats\n",
    "    for key, treated_df in treated_datasets.items():\n",
    "        if 'Volume_log' in treated_df.columns:\n",
    "            # For log transformation, use the log column\n",
    "            volume_col = treated_df['Volume_log'].dropna()\n",
    "            method_name = f\"{key} (Log)\"\n",
    "        else:\n",
    "            volume_col = treated_df['Volume'].dropna()\n",
    "            volume_col = volume_col[volume_col > 0]\n",
    "            method_name = key\n",
    "        \n",
    "        if len(volume_col) > 0:\n",
    "            comparison_stats.append({\n",
    "                'Method': method_name,\n",
    "                'Count': len(volume_col),\n",
    "                'Mean': volume_col.mean(),\n",
    "                'Median': volume_col.median(),\n",
    "                'Std': volume_col.std(),\n",
    "                'Min': volume_col.min(),\n",
    "                'Max': volume_col.max(),\n",
    "                'Skewness': stats.skew(volume_col)\n",
    "            })\n",
    "    \n",
    "    comparison_df = pd.DataFrame(comparison_stats)\n",
    "    return comparison_df\n",
    "\n",
    "# Compare all treatments\n",
    "if df_combined is not None and treated_datasets:\n",
    "    print(\"\\n\" + \"=\"*50)\n",
    "    print(\"TREATMENT COMPARISON\")\n",
    "    print(\"=\"*50)\n",
    "    \n",
    "    comparison_results = compare_treatments(df_clean, treated_datasets)\n",
    "    print(comparison_results.round(2))\n",
    "\n",
    "# ## 8. Visualization of Treatment Effects\n",
    "\n",
    "def plot_treatment_comparison(original_df, treated_datasets):\n",
    "    \"\"\"Visualize the effects of different outlier treatments\"\"\"\n",
    "    \n",
    "    n_methods = len(treated_datasets) + 1  # +1 for original\n",
    "    fig, axes = plt.subplots(2, 3, figsize=(18, 12))\n",
    "    fig.suptitle('Comparison of Outlier Treatment Methods', fontsize=16, fontweight='bold')\n",
    "    \n",
    "    # Original data\n",
    "    orig_volume = original_df['Volume'].dropna()\n",
    "    orig_volume = orig_volume[orig_volume > 0]\n",
    "    \n",
    "    axes[0, 0].hist(orig_volume, bins=50, alpha=0.7, color='blue', edgecolor='black')\n",
    "    axes[0, 0].set_title('Original Data')\n",
    "    axes[0, 0].set_xlabel('Volume')\n",
    "    axes[0, 0].set_ylabel('Frequency')\n",
    "    axes[0, 0].grid(True, alpha=0.3)\n",
    "    \n",
    "    axes[1, 0].boxplot(orig_volume)\n",
    "    axes[1, 0].set_title('Original Data - Box Plot')\n",
    "    axes[1, 0].set_ylabel('Volume')\n",
    "    axes[1, 0].grid(True, alpha=0.3)\n",
    "    \n",
    "    # Treated datasets\n",
    "    plot_positions = [(0, 1), (0, 2), (1, 1), (1, 2)]\n",
    "    colors = ['red', 'green', 'orange', 'purple']\n",
    "    \n",
    "    for i, (key, treated_df) in enumerate(list(treated_datasets.items())[:4]):\n",
    "        if i >= len(plot_positions):\n",
    "            break\n",
    "            \n",
    "        row, col = plot_positions[i]\n",
    "        \n",
    "        if 'Volume_log' in treated_df.columns:\n",
    "            volume_data = treated_df['Volume_log'].dropna()\n",
    "            title_suffix = \" (Log Transform)\"\n",
    "        else:\n",
    "            volume_data = treated_df['Volume'].dropna()\n",
    "            volume_data = volume_data[volume_data > 0]\n",
    "            title_suffix = \"\"\n",
    "        \n",
    "        # Histogram\n",
    "        axes[row, col].hist(volume_data, bins=50, alpha=0.7, color=colors[i], edgecolor='black')\n",
    "        axes[row, col].set_title(f'{key.replace(\"_\", \" \").title()}{title_suffix}')\n",
    "        axes[row, col].set_xlabel('Volume')\n",
    "        axes[row, col].set_ylabel('Frequency')\n",
    "        axes[row, col].grid(True, alpha=0.3)\n",
    "    \n",
    "    plt.tight_layout()\n",
    "    plt.show()\n",
    "\n",
    "# Create comparison plots\n",
    "if df_combined is not None and treated_datasets:\n",
    "    plot_treatment_comparison(df_clean, treated_datasets)\n",
    "\n",
    "# ## 9. Recommendations and Best Practices\n",
    "\n",
    "print(\"\\n\" + \"=\"*50)\n",
    "print(\"RECOMMENDATIONS FOR OUTLIER HANDLING\")\n",
    "print(\"=\"*50)\n",
    "\n",
    "recommendations = \"\"\"\n",
    "Based on the analysis, here are the recommended approaches for handling outliers in volume data:\n",
    "\n",
    "1. **IQR with Capping (iqr_cap)**: \n",
    "   - Best for preserving data while reducing extreme impact\n",
    "   - Maintains statistical relationships\n",
    "   - Recommended for most analyses\n",
    "\n",
    "2. **Percentile Method (percentile_cap)**:\n",
    "   - Good for extremely skewed data\n",
    "   - Less sensitive to extreme outliers\n",
    "   - Use 1st and 99th percentiles as bounds\n",
    "\n",
    "3. **Log Transformation (iqr_transform)**:\n",
    "   - Excellent for highly skewed volume data\n",
    "   - Reduces impact of outliers naturally\n",
    "   - Preferred for regression analyses\n",
    "\n",
    "4. **Z-Score Method**:\n",
    "   - Use when data is approximately normal\n",
    "   - Good for datasets with moderate outliers\n",
    "\n",
    "5. **Removal Strategy**:\n",
    "   - Use only when outliers are clearly data errors\n",
    "   - Can reduce dataset size significantly\n",
    "   - May introduce bias\n",
    "\n",
    "**General Guidelines:**\n",
    "- Always visualize data before and after treatment\n",
    "- Consider the business context (some high volumes may be legitimate)\n",
    "- Document your outlier handling approach\n",
    "- Test model performance with different methods\n",
    "- Consider using robust statistical methods instead of removing outliers\n",
    "\"\"\"\n",
    "\n",
    "print(recommendations)\n",
    "\n",
    "# ## 10. Final Function for Easy Application\n",
    "\n",
    "def handle_volume_outliers(df, method='iqr', strategy='cap', visualize=True):\n",
    "    \"\"\"\n",
    "    Complete function to handle volume outliers in stock data\n",
    "    \n",
    "    Parameters:\n",
    "    df: DataFrame with Volume column\n",
    "    method: 'iqr', 'zscore', 'modified_zscore', 'percentile'\n",
    "    strategy: 'cap', 'remove', 'transform', 'impute'\n",
    "    visualize: Whether to create before/after plots\n",
    "    \n",
    "    Returns:\n",
    "    treated_df: DataFrame with outliers handled\n",
    "    outlier_info: Dictionary with outlier statistics\n",
    "    \"\"\"\n",
    "    \n",
    "    # Clean the data first\n",
    "    df_clean = clean_volume_data(df)\n",
    "    \n",
    "    # Detect outliers\n",
    "    outlier_results, volume_data = detect_outliers_multiple_methods(df_clean)\n",
    "    \n",
    "    # Apply treatment\n",
    "    treated_df, outlier_indices = treat_outliers(df_clean, method=method, strategy=strategy)\n",
    "    \n",
    "    # Create summary\n",
    "    outlier_info = {\n",
    "        'original_count': len(df_clean),\n",
    "        'treated_count': len(treated_df),\n",
    "        'outliers_detected': len(outlier_indices),\n",
    "        'method_used': method,\n",
    "        'strategy_used': strategy,\n",
    "        'outlier_results': outlier_results\n",
    "    }\n",
    "    \n",
    "    if visualize:\n",
    "        # Before and after comparison\n",
    "        fig, axes = plt.subplots(1, 2, figsize=(15, 5))\n",
    "        \n",
    "        # Before\n",
    "        orig_volume = df_clean['Volume'].dropna()\n",
    "        orig_volume = orig_volume[orig_volume > 0]\n",
    "        axes[0].hist(orig_volume, bins=50, alpha=0.7, color='blue', edgecolor='black')\n",
    "        axes[0].set_title('Before Treatment')\n",
    "        axes[0].set_xlabel('Volume')\n",
    "        axes[0].set_ylabel('Frequency')\n",
    "        axes[0].grid(True, alpha=0.3)\n",
    "        \n",
    "        # After\n",
    "        if 'Volume_log' in treated_df.columns:\n",
    "            treated_volume = treated_df['Volume_log'].dropna()\n",
    "            xlabel = 'Log(Volume + 1)'\n",
    "        else:\n",
    "            treated_volume = treated_df['Volume'].dropna()\n",
    "            treated_volume = treated_volume[treated_volume > 0]\n",
    "            xlabel = 'Volume'\n",
    "            \n",
    "        axes[1].hist(treated_volume, bins=50, alpha=0.7, color='green', edgecolor='black')\n",
    "        axes[1].set_title(f'After Treatment ({method}-{strategy})')\n",
    "        axes[1].set_xlabel(xlabel)\n",
    "        axes[1].set_ylabel('Frequency')\n",
    "        axes[1].grid(True, alpha=0.3)\n",
    "        \n",
    "        plt.tight_layout()\n",
    "        plt.show()\n",
    "    \n",
    "    return treated_df, outlier_info\n",
    "\n",
    "# Example usage of the complete function\n",
    "if df_combined is not None:\n",
    "    print(\"\\n\" + \"=\"*50)\n",
    "    print(\"EXAMPLE: COMPLETE OUTLIER HANDLING\")\n",
    "    print(\"=\"*50)\n",
    "    \n",
    "    # Apply recommended method\n",
    "    final_df, outlier_info = handle_volume_outliers(\n",
    "        df_clean, \n",
    "        method='iqr', \n",
    "        strategy='cap', \n",
    "        visualize=True\n",
    "    )\n",
    "    \n",
    "    print(f\"\\nFinal dataset shape: {final_df.shape}\")\n",
    "    print(f\"Outliers detected and handled: {outlier_info['outliers_detected']}\")\n",
    "\n",
    "print(\"\\n\" + \"=\"*50)\n",
    "print(\"NOTEBOOK COMPLETE\")\n",
    "print(\"=\"*50)\n",
    "print(\"You can now use the handle_volume_outliers() function with your data!\")"
   ]
  },
  {
   "cell_type": "code",
   "execution_count": null,
   "id": "72c17ad4",
   "metadata": {},
   "outputs": [],
   "source": []
  }
 ],
 "metadata": {
  "kernelspec": {
   "display_name": "Python 3",
   "language": "python",
   "name": "python3"
  },
  "language_info": {
   "codemirror_mode": {
    "name": "ipython",
    "version": 3
   },
   "file_extension": ".py",
   "mimetype": "text/x-python",
   "name": "python",
   "nbconvert_exporter": "python",
   "pygments_lexer": "ipython3",
   "version": "3.13.0"
  }
 },
 "nbformat": 4,
 "nbformat_minor": 5
}

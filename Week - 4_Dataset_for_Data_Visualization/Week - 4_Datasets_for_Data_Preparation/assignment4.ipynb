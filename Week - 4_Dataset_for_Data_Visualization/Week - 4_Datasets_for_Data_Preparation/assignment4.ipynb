{
 "cells": [
  {
   "cell_type": "code",
   "execution_count": 51,
   "id": "90e16919",
   "metadata": {},
   "outputs": [],
   "source": [
    "import pandas as pd \n",
    "import numpy as np\n",
    "import matplotlib.pyplot as plt\n",
    "import seaborn as sns\n"
   ]
  },
  {
   "cell_type": "code",
   "execution_count": 52,
   "id": "a4a965fa",
   "metadata": {},
   "outputs": [],
   "source": [
    "df1 = pd.read_csv(\"Stock_File_1.csv\" )\n",
    "df2 = pd.read_csv(\"Stock_File_2.txt\", sep = \",\" )"
   ]
  },
  {
   "cell_type": "code",
   "execution_count": 53,
   "id": "935aaa38",
   "metadata": {},
   "outputs": [
    {
     "name": "stdout",
     "output_type": "stream",
     "text": [
      "<class 'pandas.core.frame.DataFrame'>\n",
      "RangeIndex: 165 entries, 0 to 164\n",
      "Data columns (total 6 columns):\n",
      " #   Column  Non-Null Count  Dtype  \n",
      "---  ------  --------------  -----  \n",
      " 0   Date    165 non-null    object \n",
      " 1   Open    161 non-null    float64\n",
      " 2   High    158 non-null    float64\n",
      " 3   Low     159 non-null    float64\n",
      " 4   Close   158 non-null    float64\n",
      " 5   Volume  165 non-null    object \n",
      "dtypes: float64(4), object(2)\n",
      "memory usage: 7.9+ KB\n"
     ]
    }
   ],
   "source": [
    "df1.info()"
   ]
  },
  {
   "cell_type": "code",
   "execution_count": 54,
   "id": "4bcbeeeb",
   "metadata": {},
   "outputs": [
    {
     "name": "stdout",
     "output_type": "stream",
     "text": [
      "<class 'pandas.core.frame.DataFrame'>\n",
      "RangeIndex: 204 entries, 0 to 203\n",
      "Data columns (total 6 columns):\n",
      " #   Column  Non-Null Count  Dtype  \n",
      "---  ------  --------------  -----  \n",
      " 0   Date    204 non-null    object \n",
      " 1   Open    201 non-null    float64\n",
      " 2   High    195 non-null    float64\n",
      " 3   Low     197 non-null    float64\n",
      " 4   Close   197 non-null    float64\n",
      " 5   Volume  204 non-null    object \n",
      "dtypes: float64(4), object(2)\n",
      "memory usage: 9.7+ KB\n"
     ]
    }
   ],
   "source": [
    "df2.info()"
   ]
  },
  {
   "cell_type": "code",
   "execution_count": 55,
   "id": "a8b96fb1",
   "metadata": {},
   "outputs": [
    {
     "data": {
      "text/plain": [
       "165"
      ]
     },
     "execution_count": 55,
     "metadata": {},
     "output_type": "execute_result"
    }
   ],
   "source": [
    "len(np.unique(df1['Date']))"
   ]
  },
  {
   "cell_type": "code",
   "execution_count": 56,
   "id": "821f10ce",
   "metadata": {},
   "outputs": [
    {
     "data": {
      "text/plain": [
       "204"
      ]
     },
     "execution_count": 56,
     "metadata": {},
     "output_type": "execute_result"
    }
   ],
   "source": [
    "len(np.unique(df2['Date']))"
   ]
  },
  {
   "cell_type": "code",
   "execution_count": 57,
   "id": "eb1ad0e3",
   "metadata": {},
   "outputs": [
    {
     "data": {
      "text/plain": [
       "0      False\n",
       "1      False\n",
       "2      False\n",
       "3      False\n",
       "4      False\n",
       "       ...  \n",
       "160    False\n",
       "161    False\n",
       "162    False\n",
       "163    False\n",
       "164    False\n",
       "Length: 165, dtype: bool"
      ]
     },
     "execution_count": 57,
     "metadata": {},
     "output_type": "execute_result"
    }
   ],
   "source": [
    "df1.duplicated(subset=['Date'], keep = False)\n"
   ]
  },
  {
   "cell_type": "code",
   "execution_count": 58,
   "id": "c819d911",
   "metadata": {},
   "outputs": [
    {
     "data": {
      "text/html": [
       "<div>\n",
       "<style scoped>\n",
       "    .dataframe tbody tr th:only-of-type {\n",
       "        vertical-align: middle;\n",
       "    }\n",
       "\n",
       "    .dataframe tbody tr th {\n",
       "        vertical-align: top;\n",
       "    }\n",
       "\n",
       "    .dataframe thead th {\n",
       "        text-align: right;\n",
       "    }\n",
       "</style>\n",
       "<table border=\"1\" class=\"dataframe\">\n",
       "  <thead>\n",
       "    <tr style=\"text-align: right;\">\n",
       "      <th></th>\n",
       "      <th>Date</th>\n",
       "      <th>Open</th>\n",
       "      <th>High</th>\n",
       "      <th>Low</th>\n",
       "      <th>Close</th>\n",
       "      <th>Volume</th>\n",
       "    </tr>\n",
       "  </thead>\n",
       "  <tbody>\n",
       "  </tbody>\n",
       "</table>\n",
       "</div>"
      ],
      "text/plain": [
       "Empty DataFrame\n",
       "Columns: [Date, Open, High, Low, Close, Volume]\n",
       "Index: []"
      ]
     },
     "execution_count": 58,
     "metadata": {},
     "output_type": "execute_result"
    }
   ],
   "source": [
    "df1[df1.duplicated(subset=['Date'], keep = False)]"
   ]
  },
  {
   "cell_type": "code",
   "execution_count": 59,
   "id": "1451bf55",
   "metadata": {},
   "outputs": [
    {
     "data": {
      "text/html": [
       "<div>\n",
       "<style scoped>\n",
       "    .dataframe tbody tr th:only-of-type {\n",
       "        vertical-align: middle;\n",
       "    }\n",
       "\n",
       "    .dataframe tbody tr th {\n",
       "        vertical-align: top;\n",
       "    }\n",
       "\n",
       "    .dataframe thead th {\n",
       "        text-align: right;\n",
       "    }\n",
       "</style>\n",
       "<table border=\"1\" class=\"dataframe\">\n",
       "  <thead>\n",
       "    <tr style=\"text-align: right;\">\n",
       "      <th></th>\n",
       "      <th>Date</th>\n",
       "      <th>Open</th>\n",
       "      <th>High</th>\n",
       "      <th>Low</th>\n",
       "      <th>Close</th>\n",
       "      <th>Volume</th>\n",
       "    </tr>\n",
       "  </thead>\n",
       "  <tbody>\n",
       "  </tbody>\n",
       "</table>\n",
       "</div>"
      ],
      "text/plain": [
       "Empty DataFrame\n",
       "Columns: [Date, Open, High, Low, Close, Volume]\n",
       "Index: []"
      ]
     },
     "execution_count": 59,
     "metadata": {},
     "output_type": "execute_result"
    }
   ],
   "source": [
    "df2[df2.duplicated(subset=['Date'], keep = False)]"
   ]
  },
  {
   "cell_type": "code",
   "execution_count": 60,
   "id": "fb6dcbee",
   "metadata": {},
   "outputs": [
    {
     "data": {
      "text/plain": [
       "False"
      ]
     },
     "execution_count": 60,
     "metadata": {},
     "output_type": "execute_result"
    }
   ],
   "source": [
    "df1['Date'].equals(df2['Date'])"
   ]
  },
  {
   "cell_type": "code",
   "execution_count": 65,
   "id": "168bcf48",
   "metadata": {},
   "outputs": [],
   "source": [
    "stock = pd.merge(df1, df2, on = 'Date', how = 'outer')"
   ]
  },
  {
   "cell_type": "code",
   "execution_count": 66,
   "id": "178696f6",
   "metadata": {},
   "outputs": [
    {
     "name": "stdout",
     "output_type": "stream",
     "text": [
      "<class 'pandas.core.frame.DataFrame'>\n",
      "RangeIndex: 369 entries, 0 to 368\n",
      "Data columns (total 11 columns):\n",
      " #   Column    Non-Null Count  Dtype  \n",
      "---  ------    --------------  -----  \n",
      " 0   Date      369 non-null    object \n",
      " 1   Open_x    161 non-null    float64\n",
      " 2   High_x    158 non-null    float64\n",
      " 3   Low_x     159 non-null    float64\n",
      " 4   Close_x   158 non-null    float64\n",
      " 5   Volume_x  165 non-null    object \n",
      " 6   Open_y    201 non-null    float64\n",
      " 7   High_y    195 non-null    float64\n",
      " 8   Low_y     197 non-null    float64\n",
      " 9   Close_y   197 non-null    float64\n",
      " 10  Volume_y  204 non-null    object \n",
      "dtypes: float64(8), object(3)\n",
      "memory usage: 31.8+ KB\n"
     ]
    }
   ],
   "source": [
    "stock.info()"
   ]
  },
  {
   "cell_type": "code",
   "execution_count": 67,
   "id": "59decbdb",
   "metadata": {},
   "outputs": [
    {
     "data": {
      "text/html": [
       "<div>\n",
       "<style scoped>\n",
       "    .dataframe tbody tr th:only-of-type {\n",
       "        vertical-align: middle;\n",
       "    }\n",
       "\n",
       "    .dataframe tbody tr th {\n",
       "        vertical-align: top;\n",
       "    }\n",
       "\n",
       "    .dataframe thead th {\n",
       "        text-align: right;\n",
       "    }\n",
       "</style>\n",
       "<table border=\"1\" class=\"dataframe\">\n",
       "  <thead>\n",
       "    <tr style=\"text-align: right;\">\n",
       "      <th></th>\n",
       "      <th>Open_x</th>\n",
       "      <th>High_x</th>\n",
       "      <th>Low_x</th>\n",
       "      <th>Close_x</th>\n",
       "      <th>Open_y</th>\n",
       "      <th>High_y</th>\n",
       "      <th>Low_y</th>\n",
       "      <th>Close_y</th>\n",
       "    </tr>\n",
       "  </thead>\n",
       "  <tbody>\n",
       "    <tr>\n",
       "      <th>count</th>\n",
       "      <td>161.000000</td>\n",
       "      <td>158.000000</td>\n",
       "      <td>159.000000</td>\n",
       "      <td>158.000000</td>\n",
       "      <td>201.000000</td>\n",
       "      <td>195.000000</td>\n",
       "      <td>197.000000</td>\n",
       "      <td>197.000000</td>\n",
       "    </tr>\n",
       "    <tr>\n",
       "      <th>mean</th>\n",
       "      <td>846.829317</td>\n",
       "      <td>808.525253</td>\n",
       "      <td>810.990000</td>\n",
       "      <td>819.263481</td>\n",
       "      <td>925.104975</td>\n",
       "      <td>899.703641</td>\n",
       "      <td>892.973858</td>\n",
       "      <td>905.464213</td>\n",
       "    </tr>\n",
       "    <tr>\n",
       "      <th>std</th>\n",
       "      <td>295.961500</td>\n",
       "      <td>269.669343</td>\n",
       "      <td>270.408865</td>\n",
       "      <td>272.956317</td>\n",
       "      <td>295.739605</td>\n",
       "      <td>274.639593</td>\n",
       "      <td>263.678769</td>\n",
       "      <td>264.815889</td>\n",
       "    </tr>\n",
       "    <tr>\n",
       "      <th>min</th>\n",
       "      <td>364.000000</td>\n",
       "      <td>366.000000</td>\n",
       "      <td>354.000000</td>\n",
       "      <td>363.600000</td>\n",
       "      <td>455.000000</td>\n",
       "      <td>366.200000</td>\n",
       "      <td>450.900000</td>\n",
       "      <td>453.900000</td>\n",
       "    </tr>\n",
       "    <tr>\n",
       "      <th>25%</th>\n",
       "      <td>700.040000</td>\n",
       "      <td>642.500000</td>\n",
       "      <td>676.100000</td>\n",
       "      <td>686.075000</td>\n",
       "      <td>702.100000</td>\n",
       "      <td>687.150000</td>\n",
       "      <td>682.900000</td>\n",
       "      <td>690.350000</td>\n",
       "    </tr>\n",
       "    <tr>\n",
       "      <th>50%</th>\n",
       "      <td>794.000000</td>\n",
       "      <td>782.250000</td>\n",
       "      <td>772.000000</td>\n",
       "      <td>781.815000</td>\n",
       "      <td>840.000000</td>\n",
       "      <td>825.950000</td>\n",
       "      <td>820.500000</td>\n",
       "      <td>835.950000</td>\n",
       "    </tr>\n",
       "    <tr>\n",
       "      <th>75%</th>\n",
       "      <td>922.000000</td>\n",
       "      <td>898.750000</td>\n",
       "      <td>893.000000</td>\n",
       "      <td>891.025000</td>\n",
       "      <td>1165.550000</td>\n",
       "      <td>1137.000000</td>\n",
       "      <td>1142.000000</td>\n",
       "      <td>1148.650000</td>\n",
       "    </tr>\n",
       "    <tr>\n",
       "      <th>max</th>\n",
       "      <td>1755.800000</td>\n",
       "      <td>1650.000000</td>\n",
       "      <td>1600.050000</td>\n",
       "      <td>1607.850000</td>\n",
       "      <td>2291.950000</td>\n",
       "      <td>1445.000000</td>\n",
       "      <td>1405.100000</td>\n",
       "      <td>1414.850000</td>\n",
       "    </tr>\n",
       "  </tbody>\n",
       "</table>\n",
       "</div>"
      ],
      "text/plain": [
       "            Open_x       High_x        Low_x      Close_x       Open_y  \\\n",
       "count   161.000000   158.000000   159.000000   158.000000   201.000000   \n",
       "mean    846.829317   808.525253   810.990000   819.263481   925.104975   \n",
       "std     295.961500   269.669343   270.408865   272.956317   295.739605   \n",
       "min     364.000000   366.000000   354.000000   363.600000   455.000000   \n",
       "25%     700.040000   642.500000   676.100000   686.075000   702.100000   \n",
       "50%     794.000000   782.250000   772.000000   781.815000   840.000000   \n",
       "75%     922.000000   898.750000   893.000000   891.025000  1165.550000   \n",
       "max    1755.800000  1650.000000  1600.050000  1607.850000  2291.950000   \n",
       "\n",
       "            High_y        Low_y      Close_y  \n",
       "count   195.000000   197.000000   197.000000  \n",
       "mean    899.703641   892.973858   905.464213  \n",
       "std     274.639593   263.678769   264.815889  \n",
       "min     366.200000   450.900000   453.900000  \n",
       "25%     687.150000   682.900000   690.350000  \n",
       "50%     825.950000   820.500000   835.950000  \n",
       "75%    1137.000000  1142.000000  1148.650000  \n",
       "max    1445.000000  1405.100000  1414.850000  "
      ]
     },
     "execution_count": 67,
     "metadata": {},
     "output_type": "execute_result"
    }
   ],
   "source": [
    "stock.describe()"
   ]
  },
  {
   "cell_type": "code",
   "execution_count": 68,
   "id": "d0eb407d",
   "metadata": {},
   "outputs": [],
   "source": [
    "stock1 = stock.copy()"
   ]
  },
  {
   "cell_type": "code",
   "execution_count": null,
   "id": "6f97cb05",
   "metadata": {},
   "outputs": [
    {
     "ename": "TypeError",
     "evalue": "'<' not supported between instances of 'float' and 'str'",
     "output_type": "error",
     "traceback": [
      "\u001b[1;31m---------------------------------------------------------------------------\u001b[0m",
      "\u001b[1;31mTypeError\u001b[0m                                 Traceback (most recent call last)",
      "Cell \u001b[1;32mIn[74], line 2\u001b[0m\n\u001b[0;32m      1\u001b[0m stock1[\u001b[38;5;124m\"\u001b[39m\u001b[38;5;124mVolume_x\u001b[39m\u001b[38;5;124m\"\u001b[39m]\u001b[38;5;241m.\u001b[39munique()\n\u001b[1;32m----> 2\u001b[0m \u001b[43mnp\u001b[49m\u001b[38;5;241;43m.\u001b[39;49m\u001b[43munique\u001b[49m\u001b[43m(\u001b[49m\u001b[43mstock1\u001b[49m\u001b[43m[\u001b[49m\u001b[38;5;124;43m\"\u001b[39;49m\u001b[38;5;124;43mVolume_x\u001b[39;49m\u001b[38;5;124;43m\"\u001b[39;49m\u001b[43m]\u001b[49m\u001b[43m,\u001b[49m\u001b[43m \u001b[49m\u001b[43mreturn_counts\u001b[49m\u001b[38;5;241;43m=\u001b[39;49m\u001b[38;5;28;43;01mTrue\u001b[39;49;00m\u001b[43m)\u001b[49m\n",
      "File \u001b[1;32mc:\\Users\\admin\\AppData\\Local\\Programs\\Python\\Python313\\Lib\\site-packages\\numpy\\lib\\_arraysetops_impl.py:291\u001b[0m, in \u001b[0;36munique\u001b[1;34m(ar, return_index, return_inverse, return_counts, axis, equal_nan)\u001b[0m\n\u001b[0;32m    289\u001b[0m ar \u001b[38;5;241m=\u001b[39m np\u001b[38;5;241m.\u001b[39masanyarray(ar)\n\u001b[0;32m    290\u001b[0m \u001b[38;5;28;01mif\u001b[39;00m axis \u001b[38;5;129;01mis\u001b[39;00m \u001b[38;5;28;01mNone\u001b[39;00m:\n\u001b[1;32m--> 291\u001b[0m     ret \u001b[38;5;241m=\u001b[39m \u001b[43m_unique1d\u001b[49m\u001b[43m(\u001b[49m\u001b[43mar\u001b[49m\u001b[43m,\u001b[49m\u001b[43m \u001b[49m\u001b[43mreturn_index\u001b[49m\u001b[43m,\u001b[49m\u001b[43m \u001b[49m\u001b[43mreturn_inverse\u001b[49m\u001b[43m,\u001b[49m\u001b[43m \u001b[49m\u001b[43mreturn_counts\u001b[49m\u001b[43m,\u001b[49m\u001b[43m \u001b[49m\n\u001b[0;32m    292\u001b[0m \u001b[43m                    \u001b[49m\u001b[43mequal_nan\u001b[49m\u001b[38;5;241;43m=\u001b[39;49m\u001b[43mequal_nan\u001b[49m\u001b[43m,\u001b[49m\u001b[43m \u001b[49m\u001b[43minverse_shape\u001b[49m\u001b[38;5;241;43m=\u001b[39;49m\u001b[43mar\u001b[49m\u001b[38;5;241;43m.\u001b[39;49m\u001b[43mshape\u001b[49m\u001b[43m,\u001b[49m\u001b[43m \u001b[49m\u001b[43maxis\u001b[49m\u001b[38;5;241;43m=\u001b[39;49m\u001b[38;5;28;43;01mNone\u001b[39;49;00m\u001b[43m)\u001b[49m\n\u001b[0;32m    293\u001b[0m     \u001b[38;5;28;01mreturn\u001b[39;00m _unpack_tuple(ret)\n\u001b[0;32m    295\u001b[0m \u001b[38;5;66;03m# axis was specified and not None\u001b[39;00m\n",
      "File \u001b[1;32mc:\\Users\\admin\\AppData\\Local\\Programs\\Python\\Python313\\Lib\\site-packages\\numpy\\lib\\_arraysetops_impl.py:358\u001b[0m, in \u001b[0;36m_unique1d\u001b[1;34m(ar, return_index, return_inverse, return_counts, equal_nan, inverse_shape, axis)\u001b[0m\n\u001b[0;32m    356\u001b[0m     aux \u001b[38;5;241m=\u001b[39m ar[perm]\n\u001b[0;32m    357\u001b[0m \u001b[38;5;28;01melse\u001b[39;00m:\n\u001b[1;32m--> 358\u001b[0m     \u001b[43mar\u001b[49m\u001b[38;5;241;43m.\u001b[39;49m\u001b[43msort\u001b[49m\u001b[43m(\u001b[49m\u001b[43m)\u001b[49m\n\u001b[0;32m    359\u001b[0m     aux \u001b[38;5;241m=\u001b[39m ar\n\u001b[0;32m    360\u001b[0m mask \u001b[38;5;241m=\u001b[39m np\u001b[38;5;241m.\u001b[39mempty(aux\u001b[38;5;241m.\u001b[39mshape, dtype\u001b[38;5;241m=\u001b[39mnp\u001b[38;5;241m.\u001b[39mbool)\n",
      "\u001b[1;31mTypeError\u001b[0m: '<' not supported between instances of 'float' and 'str'"
     ]
    }
   ],
   "source": [
    "stock1[\"Volume_x\"].unique()\n",
    "\n"
   ]
  },
  {
   "cell_type": "code",
   "execution_count": 77,
   "id": "e0f66355",
   "metadata": {},
   "outputs": [
    {
     "data": {
      "text/plain": [
       "array(['1-Apr-08', '1-Apr-09', '1-Apr-10', '1-Apr-11', '1-Apr-13',\n",
       "       '1-Apr-14', '1-Apr-15', '1-Apr-16', '1-Aug-06', '1-Aug-07',\n",
       "       '1-Aug-08', '1-Aug-11', '1-Aug-12', '1-Aug-13', '1-Aug-14',\n",
       "       '1-Aug-16', '1-Dec-06', '1-Dec-08', '1-Dec-09', '1-Dec-10',\n",
       "       '1-Dec-11', '1-Dec-14', '1-Dec-15', '1-Feb-07', '1-Feb-08',\n",
       "       '1-Feb-10', '1-Feb-11', '1-Feb-12', '1-Feb-13', '1-Feb-16',\n",
       "       '1-Jan-08', '1-Jan-09', '1-Jan-10', '1-Jan-13', '1-Jan-14',\n",
       "       '1-Jan-15', '1-Jan-16', '1-Jul-08', '1-Jul-09', '1-Jul-10',\n",
       "       '1-Jul-11', '1-Jul-13', '1-Jul-14', '1-Jul-15', '1-Jul-16',\n",
       "       '1-Jun-06', '1-Jun-07', '1-Jun-09', '1-Jun-10', '1-Jun-11',\n",
       "       '1-Jun-12', '1-Jun-15', '1-Jun-16', '1-Mar-07', '1-Mar-11',\n",
       "       '1-Mar-12', '1-Mar-13', '1-Mar-16', '1-May-09', '1-May-12',\n",
       "       '1-May-13', '1-May-14', '1-May-15', '1-Nov-06', '1-Nov-07',\n",
       "       '1-Nov-10', '1-Nov-11', '1-Nov-12', '1-Nov-13', '1-Oct-07',\n",
       "       '1-Oct-08', '1-Oct-09', '1-Oct-10', '1-Oct-12', '1-Oct-13',\n",
       "       '1-Oct-14', '1-Oct-15', '1-Sep-06', '1-Sep-08', '1-Sep-09',\n",
       "       '1-Sep-10', '1-Sep-14', '1-Sep-15', '10-Apr-09', '10-Apr-15',\n",
       "       '10-Aug-07', '10-Aug-12', '10-Dec-10', '10-Feb-12', '10-Jan-14',\n",
       "       '10-Jul-09', '10-Jul-15', '10-Jun-11', '10-Jun-16', '10-May-13',\n",
       "       '10-Nov-06', '10-Oct-08', '10-Oct-14', '11-Apr-08', '11-Apr-11',\n",
       "       '11-Apr-13', '11-Apr-14', '11-Apr-16', '11-Aug-06', '11-Aug-08',\n",
       "       '11-Aug-11', '11-Aug-14', '11-Aug-16', '11-Dec-06', '11-Dec-08',\n",
       "       '11-Dec-09', '11-Dec-14', '11-Dec-15', '11-Feb-10', '11-Feb-11',\n",
       "       '11-Feb-13', '11-Jan-08', '11-Jan-10', '11-Jan-13', '11-Jan-16',\n",
       "       '11-Jul-08', '11-Jul-11', '11-Jul-13', '11-Jul-14', '11-Jul-16',\n",
       "       '11-Jun-07', '11-Jun-09', '11-Jun-10', '11-Jun-12', '11-Jun-15',\n",
       "       '11-Mar-11', '11-Mar-13', '11-Mar-16', '11-May-09', '11-May-12',\n",
       "       '11-May-15', '11-Nov-10', '11-Nov-11', '11-Nov-13', '11-Oct-07',\n",
       "       '11-Oct-10', '11-Oct-12', '11-Oct-13', '11-Sep-06', '11-Sep-08',\n",
       "       '11-Sep-09', '11-Sep-14', '11-Sep-15', '12-Apr-07', '12-Apr-10',\n",
       "       '12-Apr-12', '12-Aug-10', '12-Aug-13', '12-Dec-11', '12-Dec-13',\n",
       "       '12-Feb-07', '12-Feb-08', '12-Feb-09', '12-Feb-15', '12-Feb-16',\n",
       "       '12-Jan-07', '12-Jan-09', '12-Jan-12', '12-Jan-15', '12-Jul-07',\n",
       "       '12-Jul-10', '12-Jul-12', '12-Jun-06', '12-Jun-08', '12-Jun-14',\n",
       "       '12-Mar-07', '12-Mar-09', '12-Mar-10', '12-Mar-12', '12-Mar-15',\n",
       "       '12-May-08', '12-May-11', '12-May-14', '12-May-16', '12-Nov-07',\n",
       "       '12-Nov-09', '12-Nov-12', '12-Nov-15', '12-Oct-09', '12-Oct-15',\n",
       "       '12-Sep-11', '12-Sep-13', '13-Aug-09', '13-Aug-15', '13-Dec-07',\n",
       "       '13-Dec-12', '13-Feb-14', '13-Jan-11', '13-Jul-06', '13-Jun-13',\n",
       "       '13-Mar-08', '13-Mar-14', '13-May-10', '13-Nov-14', '13-Oct-06',\n",
       "       '13-Oct-11', '13-Sep-07', '13-Sep-12', '14-May-07', '14-Nov-08',\n",
       "       '2-Apr-07', '2-Apr-12', '2-Aug-10', '2-Dec-13', '2-Feb-09',\n",
       "       '2-Feb-15', '2-Jan-07', '2-Jan-12', '2-Jul-07', '2-Jul-12',\n",
       "       '2-Jun-08', '2-Jun-14', '2-Mar-09', '2-Mar-10', '2-Mar-15',\n",
       "       '2-May-08', '2-May-11', '2-May-16', '2-Nov-09', '2-Nov-15',\n",
       "       '2-Sep-11', '2-Sep-13', '20-Feb-09', '21-Apr-08', '21-Apr-09',\n",
       "       '21-Apr-10', '21-Apr-11', '21-Apr-14', '21-Apr-15', '21-Apr-16',\n",
       "       '21-Aug-06', '21-Aug-07', '21-Aug-08', '21-Aug-12', '21-Aug-13',\n",
       "       '21-Aug-14', '21-Dec-06', '21-Dec-09', '21-Dec-10', '21-Dec-15',\n",
       "       '21-Feb-07', '21-Feb-11', '21-Feb-12', '21-Feb-13', '21-Jan-08',\n",
       "       '21-Jan-09', '21-Jan-10', '21-Jan-13', '21-Jan-14', '21-Jan-15',\n",
       "       '21-Jan-16', '21-Jul-08', '21-Jul-09', '21-Jul-10', '21-Jul-11',\n",
       "       '21-Jul-14', '21-Jul-15', '21-Jul-16', '21-Jun-07', '21-Jun-10',\n",
       "       '21-Jun-11', '21-Jun-12', '21-Jun-16', '21-Mar-11', '21-Mar-13',\n",
       "       '21-Mar-16', '21-May-09', '21-May-12', '21-May-13', '21-May-14',\n",
       "       '21-May-15', '21-Nov-06', '21-Nov-11', '21-Nov-12', '21-Nov-13',\n",
       "       '21-Oct-08', '21-Oct-09', '21-Oct-10', '21-Oct-13', '21-Oct-14',\n",
       "       '21-Sep-06', '21-Sep-09', '21-Sep-10', '21-Sep-15', '22-Apr-13',\n",
       "       '22-Aug-11', '22-Aug-16', '22-Dec-08', '22-Dec-11', '22-Dec-14',\n",
       "       '22-Feb-08', '22-Feb-10', '22-Feb-16', '22-Jan-07', '22-Jul-13',\n",
       "       '22-Jun-06', '22-Jun-09', '22-Jun-15', '22-Mar-07', '22-Mar-10',\n",
       "       '22-Mar-12', '22-May-08', '22-Nov-07', '22-Nov-10', '22-Oct-07',\n",
       "       '22-Oct-12', '22-Oct-15', '22-Sep-08', '22-Sep-11', '22-Sep-14',\n",
       "       '23-Apr-07', '23-Apr-12', '23-Aug-10', '23-Dec-13', '23-Feb-15',\n",
       "       '23-Jan-12', '23-Jul-07', '23-Jul-12', '23-Jun-08', '23-Jun-14',\n",
       "       '23-Mar-09', '23-Mar-15', '23-May-07', '23-May-11', '23-May-16',\n",
       "       '23-Nov-09', '23-Nov-15', '23-Oct-06', '23-Sep-13', '24-Aug-09',\n",
       "       '24-Aug-15', '24-Dec-07', '24-Dec-12', '24-Feb-14', '24-Jan-11',\n",
       "       '24-Jul-06', '24-Jun-13', '24-Mar-08', '24-Mar-14', '24-May-10',\n",
       "       '24-Nov-08', '24-Nov-14', '24-Oct-11', '24-Sep-07', '24-Sep-12',\n",
       "       '3-Aug-09', '3-Aug-15', '3-Dec-07', '3-Dec-12', '3-Feb-14',\n",
       "       '3-Jan-11', '3-Jul-06', '3-Jun-13', '3-Mar-08', '3-Mar-14',\n",
       "       '3-May-07', '3-May-10', '3-Nov-08', '3-Nov-14', '3-Oct-06',\n",
       "       '3-Oct-11', '3-Sep-07', '3-Sep-12', '9-Sep-10'], dtype=object)"
      ]
     },
     "execution_count": 77,
     "metadata": {},
     "output_type": "execute_result"
    }
   ],
   "source": [
    "stock1[\"Date\"].unique()\n"
   ]
  },
  {
   "cell_type": "code",
   "execution_count": 78,
   "id": "9a4fb85f",
   "metadata": {},
   "outputs": [],
   "source": [
    "categorical_data= stock1.select_dtypes(include=['object']).copy()"
   ]
  },
  {
   "cell_type": "code",
   "execution_count": 79,
   "id": "cc62481a",
   "metadata": {},
   "outputs": [
    {
     "data": {
      "text/plain": [
       "Index(['Date', 'Volume_x', 'Volume_y'], dtype='object')"
      ]
     },
     "execution_count": 79,
     "metadata": {},
     "output_type": "execute_result"
    }
   ],
   "source": [
    "categorical_data.columns"
   ]
  },
  {
   "cell_type": "code",
   "execution_count": 81,
   "id": "70c6ac58",
   "metadata": {},
   "outputs": [
    {
     "data": {
      "text/plain": [
       "Volume_x\n",
       "zero      5\n",
       "48800     3\n",
       "30200     3\n",
       "6200      2\n",
       "19400     2\n",
       "         ..\n",
       "11100     1\n",
       "126900    1\n",
       "67200     1\n",
       "165800    1\n",
       "5100      1\n",
       "Name: count, Length: 152, dtype: int64"
      ]
     },
     "execution_count": 81,
     "metadata": {},
     "output_type": "execute_result"
    }
   ],
   "source": [
    "categorical_data['Volume_x'].value_counts()"
   ]
  },
  {
   "cell_type": "code",
   "execution_count": 82,
   "id": "9a1de603",
   "metadata": {},
   "outputs": [
    {
     "data": {
      "text/plain": [
       "Volume_y\n",
       "zero     6\n",
       "3900     6\n",
       "4600     6\n",
       "4800     6\n",
       "6100     4\n",
       "        ..\n",
       "10500    1\n",
       "17600    1\n",
       "47900    1\n",
       "99900    1\n",
       "10700    1\n",
       "Name: count, Length: 131, dtype: int64"
      ]
     },
     "execution_count": 82,
     "metadata": {},
     "output_type": "execute_result"
    }
   ],
   "source": [
    "categorical_data['Volume_y'].value_counts()"
   ]
  },
  {
   "cell_type": "code",
   "execution_count": 83,
   "id": "bb7f8514",
   "metadata": {},
   "outputs": [
    {
     "data": {
      "text/plain": [
       "Series([], Name: count, dtype: int64)"
      ]
     },
     "execution_count": 83,
     "metadata": {},
     "output_type": "execute_result"
    }
   ],
   "source": [
    "categorical_data.value_counts()"
   ]
  },
  {
   "cell_type": "code",
   "execution_count": 84,
   "id": "a90f198f",
   "metadata": {},
   "outputs": [],
   "source": [
    "import re"
   ]
  },
  {
   "cell_type": "code",
   "execution_count": 85,
   "id": "c7622e31",
   "metadata": {},
   "outputs": [],
   "source": [
    "date = '^(0[1-9]|1[0-2])/(0[1-9]|[12][0-9]|3[01])/[0-9]{4}'"
   ]
  },
  {
   "cell_type": "code",
   "execution_count": 86,
   "id": "37dd713f",
   "metadata": {},
   "outputs": [],
   "source": [
    "p = re.compile(date)"
   ]
  },
  {
   "cell_type": "code",
   "execution_count": 87,
   "id": "947df016",
   "metadata": {},
   "outputs": [
    {
     "data": {
      "text/plain": [
       "re.Pattern"
      ]
     },
     "execution_count": 87,
     "metadata": {},
     "output_type": "execute_result"
    }
   ],
   "source": [
    "type(p)"
   ]
  },
  {
   "cell_type": "code",
   "execution_count": 91,
   "id": "82c37c01",
   "metadata": {},
   "outputs": [
    {
     "name": "stdout",
     "output_type": "stream",
     "text": [
      "\n",
      "Dataset 1 Quality Issues:\n",
      "  Missing values: 24\n",
      "  'NA' string values: 0\n",
      "  'zero' string values: 5\n",
      "  Duplicate rows: 0\n",
      "\n",
      "Dataset 2 Quality Issues:\n",
      "  Missing values: 26\n",
      "  'NA' string values: 0\n",
      "  'zero' string values: 6\n",
      "  Duplicate rows: 0\n"
     ]
    }
   ],
   "source": [
    "for i, (name, df) in enumerate([(\"Dataset 1\", df1), (\"Dataset 2\", df2)], 1):\n",
    "     print(f\"\\n{name} Quality Issues:\")\n",
    "     print(f\"  Missing values: {df.isnull().sum().sum()}\")\n",
    "     print(f\"  'NA' string values: {(df == 'NA').sum().sum()}\")\n",
    "     print(f\"  'zero' string values: {(df == 'zero').sum().sum()}\")\n",
    "     print(f\"  Duplicate rows: {df.duplicated().sum()}\")"
   ]
  },
  {
   "cell_type": "code",
   "execution_count": 103,
   "id": "bb1a30d7",
   "metadata": {},
   "outputs": [],
   "source": [
    "stock2 = pd.concat([df1,df2],ignore_index=True)"
   ]
  },
  {
   "cell_type": "code",
   "execution_count": 104,
   "id": "a1180e0e",
   "metadata": {},
   "outputs": [
    {
     "name": "stdout",
     "output_type": "stream",
     "text": [
      "<class 'pandas.core.frame.DataFrame'>\n",
      "RangeIndex: 369 entries, 0 to 368\n",
      "Data columns (total 6 columns):\n",
      " #   Column  Non-Null Count  Dtype  \n",
      "---  ------  --------------  -----  \n",
      " 0   Date    369 non-null    object \n",
      " 1   Open    362 non-null    float64\n",
      " 2   High    353 non-null    float64\n",
      " 3   Low     356 non-null    float64\n",
      " 4   Close   355 non-null    float64\n",
      " 5   Volume  369 non-null    object \n",
      "dtypes: float64(4), object(2)\n",
      "memory usage: 17.4+ KB\n"
     ]
    }
   ],
   "source": [
    "stock2.info()"
   ]
  },
  {
   "cell_type": "code",
   "execution_count": 110,
   "id": "6f7168a8",
   "metadata": {},
   "outputs": [],
   "source": [
    "l = stock2.copy()"
   ]
  },
  {
   "cell_type": "code",
   "execution_count": 111,
   "id": "e252598e",
   "metadata": {},
   "outputs": [],
   "source": [
    "l['Date'] = pd.to_datetime(l['Date'], format='%d-%b-%y')"
   ]
  },
  {
   "cell_type": "code",
   "execution_count": 112,
   "id": "20074f4b",
   "metadata": {},
   "outputs": [
    {
     "data": {
      "text/plain": [
       "0     2006-06-01\n",
       "1     2006-06-12\n",
       "2     2006-06-22\n",
       "3     2006-07-03\n",
       "4     2006-07-13\n",
       "         ...    \n",
       "364   2016-07-11\n",
       "365   2016-07-21\n",
       "366   2016-08-01\n",
       "367   2016-08-11\n",
       "368   2016-08-22\n",
       "Name: Date, Length: 369, dtype: datetime64[ns]"
      ]
     },
     "execution_count": 112,
     "metadata": {},
     "output_type": "execute_result"
    }
   ],
   "source": [
    "l['Date']"
   ]
  },
  {
   "cell_type": "code",
   "execution_count": 113,
   "id": "a8a624c8",
   "metadata": {},
   "outputs": [
    {
     "data": {
      "text/plain": [
       "np.int64(0)"
      ]
     },
     "execution_count": 113,
     "metadata": {},
     "output_type": "execute_result"
    }
   ],
   "source": [
    "invalid_dates = l['Date'].isnull().sum()\n",
    "invalid_dates"
   ]
  },
  {
   "cell_type": "code",
   "execution_count": 114,
   "id": "6572d00e",
   "metadata": {},
   "outputs": [],
   "source": [
    "df_sorted_asc = df.sort_values(by='Date', ascending=True)"
   ]
  },
  {
   "cell_type": "code",
   "execution_count": 115,
   "id": "8ce90bad",
   "metadata": {},
   "outputs": [
    {
     "data": {
      "text/html": [
       "<div>\n",
       "<style scoped>\n",
       "    .dataframe tbody tr th:only-of-type {\n",
       "        vertical-align: middle;\n",
       "    }\n",
       "\n",
       "    .dataframe tbody tr th {\n",
       "        vertical-align: top;\n",
       "    }\n",
       "\n",
       "    .dataframe thead th {\n",
       "        text-align: right;\n",
       "    }\n",
       "</style>\n",
       "<table border=\"1\" class=\"dataframe\">\n",
       "  <thead>\n",
       "    <tr style=\"text-align: right;\">\n",
       "      <th></th>\n",
       "      <th>Date</th>\n",
       "      <th>Open</th>\n",
       "      <th>High</th>\n",
       "      <th>Low</th>\n",
       "      <th>Close</th>\n",
       "      <th>Volume</th>\n",
       "    </tr>\n",
       "  </thead>\n",
       "  <tbody>\n",
       "    <tr>\n",
       "      <th>0</th>\n",
       "      <td>2006-06-01</td>\n",
       "      <td>471.60</td>\n",
       "      <td>474.00</td>\n",
       "      <td>442.00</td>\n",
       "      <td>444.42</td>\n",
       "      <td>21900</td>\n",
       "    </tr>\n",
       "    <tr>\n",
       "      <th>1</th>\n",
       "      <td>2006-06-12</td>\n",
       "      <td>454.00</td>\n",
       "      <td>464.00</td>\n",
       "      <td>440.00</td>\n",
       "      <td>446.17</td>\n",
       "      <td>8400</td>\n",
       "    </tr>\n",
       "    <tr>\n",
       "      <th>2</th>\n",
       "      <td>2006-06-22</td>\n",
       "      <td>451.16</td>\n",
       "      <td>464.20</td>\n",
       "      <td>447.60</td>\n",
       "      <td>460.26</td>\n",
       "      <td>19400</td>\n",
       "    </tr>\n",
       "    <tr>\n",
       "      <th>3</th>\n",
       "      <td>2006-07-03</td>\n",
       "      <td>495.10</td>\n",
       "      <td>509.68</td>\n",
       "      <td>493.00</td>\n",
       "      <td>498.97</td>\n",
       "      <td>9100</td>\n",
       "    </tr>\n",
       "    <tr>\n",
       "      <th>4</th>\n",
       "      <td>2006-07-13</td>\n",
       "      <td>518.00</td>\n",
       "      <td>526.40</td>\n",
       "      <td>517.00</td>\n",
       "      <td>521.66</td>\n",
       "      <td>6800</td>\n",
       "    </tr>\n",
       "    <tr>\n",
       "      <th>...</th>\n",
       "      <td>...</td>\n",
       "      <td>...</td>\n",
       "      <td>...</td>\n",
       "      <td>...</td>\n",
       "      <td>...</td>\n",
       "      <td>...</td>\n",
       "    </tr>\n",
       "    <tr>\n",
       "      <th>364</th>\n",
       "      <td>2016-07-11</td>\n",
       "      <td>1265.50</td>\n",
       "      <td>1287.00</td>\n",
       "      <td>NaN</td>\n",
       "      <td>1276.40</td>\n",
       "      <td>11800</td>\n",
       "    </tr>\n",
       "    <tr>\n",
       "      <th>365</th>\n",
       "      <td>2016-07-21</td>\n",
       "      <td>1301.00</td>\n",
       "      <td>1322.10</td>\n",
       "      <td>1261.00</td>\n",
       "      <td>1270.55</td>\n",
       "      <td>36800</td>\n",
       "    </tr>\n",
       "    <tr>\n",
       "      <th>366</th>\n",
       "      <td>2016-08-01</td>\n",
       "      <td>1279.65</td>\n",
       "      <td>NaN</td>\n",
       "      <td>1247.40</td>\n",
       "      <td>1250.65</td>\n",
       "      <td>4600</td>\n",
       "    </tr>\n",
       "    <tr>\n",
       "      <th>367</th>\n",
       "      <td>2016-08-11</td>\n",
       "      <td>1180.05</td>\n",
       "      <td>683.00</td>\n",
       "      <td>1171.15</td>\n",
       "      <td>1191.35</td>\n",
       "      <td>4800</td>\n",
       "    </tr>\n",
       "    <tr>\n",
       "      <th>368</th>\n",
       "      <td>2016-08-22</td>\n",
       "      <td>1168.20</td>\n",
       "      <td>1168.20</td>\n",
       "      <td>1148.40</td>\n",
       "      <td>1155.55</td>\n",
       "      <td>2600</td>\n",
       "    </tr>\n",
       "  </tbody>\n",
       "</table>\n",
       "<p>369 rows × 6 columns</p>\n",
       "</div>"
      ],
      "text/plain": [
       "          Date     Open     High      Low    Close Volume\n",
       "0   2006-06-01   471.60   474.00   442.00   444.42  21900\n",
       "1   2006-06-12   454.00   464.00   440.00   446.17   8400\n",
       "2   2006-06-22   451.16   464.20   447.60   460.26  19400\n",
       "3   2006-07-03   495.10   509.68   493.00   498.97   9100\n",
       "4   2006-07-13   518.00   526.40   517.00   521.66   6800\n",
       "..         ...      ...      ...      ...      ...    ...\n",
       "364 2016-07-11  1265.50  1287.00      NaN  1276.40  11800\n",
       "365 2016-07-21  1301.00  1322.10  1261.00  1270.55  36800\n",
       "366 2016-08-01  1279.65      NaN  1247.40  1250.65   4600\n",
       "367 2016-08-11  1180.05   683.00  1171.15  1191.35   4800\n",
       "368 2016-08-22  1168.20  1168.20  1148.40  1155.55   2600\n",
       "\n",
       "[369 rows x 6 columns]"
      ]
     },
     "execution_count": 115,
     "metadata": {},
     "output_type": "execute_result"
    }
   ],
   "source": [
    "l"
   ]
  },
  {
   "cell_type": "code",
   "execution_count": 127,
   "id": "a9bda7dd",
   "metadata": {
    "vscode": {
     "languageId": "ruby"
    }
   },
   "outputs": [
    {
     "data": {
      "text/plain": [
       "np.int64(0)"
      ]
     },
     "execution_count": 127,
     "metadata": {},
     "output_type": "execute_result"
    }
   ],
   "source": [
    "l[\"High\"] = l[\"High\"].fillna(l[\"High\"].mean())\n",
    "l[\"Low\"] = l[\"Low\"].fillna(l[\"Low\"].mean())\n",
    "l[\"Open\"] = l[\"Open\"].fillna(l[\"Open\"].mean())\n",
    "l[\"Close\"] = l[\"Close\"].fillna(l[\"Close\"].mean())\n",
    "# l[\"Volume\"] = l[\"Volume\"].fillna(l[\"Volume\"].mean())\n",
    "\n",
    "l['High'].isnull().sum()\n",
    "l['Low'].isnull().sum()\n",
    "l['Open'].isnull().sum()\n",
    "l['Close'].isnull().sum()"
   ]
  },
  {
   "cell_type": "code",
   "execution_count": null,
   "id": "dd546273",
   "metadata": {},
   "outputs": [],
   "source": []
  },
  {
   "cell_type": "code",
   "execution_count": null,
   "id": "1984788e",
   "metadata": {},
   "outputs": [],
   "source": []
  }
 ],
 "metadata": {
  "kernelspec": {
   "display_name": "Python 3",
   "language": "python",
   "name": "python3"
  },
  "language_info": {
   "codemirror_mode": {
    "name": "ipython",
    "version": 3
   },
   "file_extension": ".py",
   "mimetype": "text/x-python",
   "name": "python",
   "nbconvert_exporter": "python",
   "pygments_lexer": "ipython3",
   "version": "3.13.0"
  }
 },
 "nbformat": 4,
 "nbformat_minor": 5
}
